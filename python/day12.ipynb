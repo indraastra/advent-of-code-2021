{
 "cells": [
  {
   "cell_type": "code",
   "execution_count": 165,
   "id": "855b3a2f",
   "metadata": {},
   "outputs": [],
   "source": [
    "from collections import defaultdict\n",
    "\n",
    "def parse_graph(g):\n",
    "    edges = defaultdict(list)\n",
    "    for edge in g.splitlines():\n",
    "        s, e = edge.split('-')\n",
    "        edges[s].append(e)\n",
    "        edges[e].append(s)\n",
    "    return edges\n",
    "\n",
    "def is_small(v):\n",
    "    return v.islower()\n",
    "\n",
    "def small_visits(p):\n",
    "    return len([v for v in p if is_small(v)])\n",
    "\n",
    "def all_paths(g, allow_twice):\n",
    "    stack = []\n",
    "    def push(v, path, allow_twice):\n",
    "        stack.append((v, path+[v], allow_twice))\n",
    "    push('start', [], allow_twice)\n",
    "    \n",
    "    while stack:\n",
    "        v1, path, allow_twice = stack.pop()\n",
    "        if v1 == 'end':\n",
    "            yield path\n",
    "            continue\n",
    "\n",
    "        for v2 in g[v1]:\n",
    "            if v2 == 'start': continue\n",
    "            if is_small(v2) and v2 in path:\n",
    "                if allow_twice:\n",
    "                    push(v2, path, allow_twice=False)\n",
    "            else:\n",
    "                push(v2, path, allow_twice)"
   ]
  },
  {
   "cell_type": "code",
   "execution_count": 166,
   "id": "0f1f3b6d",
   "metadata": {},
   "outputs": [],
   "source": [
    "def num_paths(g, allow_twice=False):\n",
    "    count = 0\n",
    "    for p in all_paths(g, allow_twice):\n",
    "        count += 1\n",
    "    return count"
   ]
  },
  {
   "cell_type": "code",
   "execution_count": 167,
   "id": "dc468f6b",
   "metadata": {},
   "outputs": [],
   "source": [
    "g = parse_graph(\"\"\"start-A\n",
    "start-b\n",
    "A-c\n",
    "A-b\n",
    "b-d\n",
    "A-end\n",
    "b-end\"\"\")"
   ]
  },
  {
   "cell_type": "code",
   "execution_count": 168,
   "id": "d4e31fcd",
   "metadata": {},
   "outputs": [
    {
     "data": {
      "text/plain": [
       "10"
      ]
     },
     "execution_count": 168,
     "metadata": {},
     "output_type": "execute_result"
    }
   ],
   "source": [
    "num_paths(g)"
   ]
  },
  {
   "cell_type": "code",
   "execution_count": 169,
   "id": "bbe86c12",
   "metadata": {},
   "outputs": [
    {
     "data": {
      "text/plain": [
       "36"
      ]
     },
     "execution_count": 169,
     "metadata": {},
     "output_type": "execute_result"
    }
   ],
   "source": [
    "num_paths(g, allow_twice=True)"
   ]
  },
  {
   "cell_type": "code",
   "execution_count": 171,
   "id": "10a040d2",
   "metadata": {},
   "outputs": [
    {
     "name": "stdout",
     "output_type": "stream",
     "text": [
      "[p1] Num paths: 5254\n",
      "[p2] Num paths allowing two small caves: 149385\n",
      "CPU times: user 746 ms, sys: 4.99 ms, total: 751 ms\n",
      "Wall time: 753 ms\n"
     ]
    }
   ],
   "source": [
    "%%time\n",
    "with open('../data/day12.txt') as infile:\n",
    "    g = parse_graph(infile.read())\n",
    "    print('[p1] Num paths:', num_paths(g))\n",
    "    print('[p2] Num paths allowing two small caves:', num_paths(g, allow_twice=True))"
   ]
  },
  {
   "cell_type": "code",
   "execution_count": null,
   "id": "df91c326",
   "metadata": {},
   "outputs": [],
   "source": []
  }
 ],
 "metadata": {
  "kernelspec": {
   "display_name": "Python 3 (ipykernel)",
   "language": "python",
   "name": "python3"
  },
  "language_info": {
   "codemirror_mode": {
    "name": "ipython",
    "version": 3
   },
   "file_extension": ".py",
   "mimetype": "text/x-python",
   "name": "python",
   "nbconvert_exporter": "python",
   "pygments_lexer": "ipython3",
   "version": "3.8.10"
  }
 },
 "nbformat": 4,
 "nbformat_minor": 5
}
