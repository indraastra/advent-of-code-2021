{
 "cells": [
  {
   "cell_type": "code",
   "execution_count": 1,
   "id": "cad3885d",
   "metadata": {},
   "outputs": [],
   "source": [
    "from collections import namedtuple"
   ]
  },
  {
   "cell_type": "code",
   "execution_count": 6,
   "id": "010b7f5d",
   "metadata": {},
   "outputs": [],
   "source": [
    "numbers = ['abcefg', 'cf', 'acdeg', 'acdfg', 'bcdf', 'abdfg', 'abdefg', 'acf', 'abcdefg', 'abcdfg']"
   ]
  },
  {
   "cell_type": "code",
   "execution_count": 2,
   "id": "ec091eaf",
   "metadata": {},
   "outputs": [],
   "source": [
    "digits_by_count = {\n",
    "    2: 1,\n",
    "    4: 4,\n",
    "    3: 7,\n",
    "    7: 8\n",
    "}"
   ]
  },
  {
   "cell_type": "code",
   "execution_count": 3,
   "id": "bc2fd595",
   "metadata": {},
   "outputs": [],
   "source": [
    "def outputs(s):\n",
    "    return s[-4:]\n",
    "\n",
    "def parse_signals(s):\n",
    "    signals = []\n",
    "    for line in s.splitlines():\n",
    "        i, o = line.split('|')\n",
    "        signals.append([''.join(sorted(s)) for s in i.split() + o.split()])\n",
    "    return signals"
   ]
  },
  {
   "cell_type": "code",
   "execution_count": 50,
   "id": "62cfaca5",
   "metadata": {},
   "outputs": [],
   "source": [
    "def dist(a, b):\n",
    "    a = set(a)\n",
    "    b = set(b)\n",
    "    return (a.issubset(b) and len(b-a)) or -(b.issubset(a) and len(a-b))"
   ]
  },
  {
   "cell_type": "code",
   "execution_count": 51,
   "id": "44a9dad1",
   "metadata": {},
   "outputs": [],
   "source": [
    "def find_by_count(signals, c, solution):\n",
    "    return next(s for s in signals if len(s) == c and s not in solution.values())"
   ]
  },
  {
   "cell_type": "code",
   "execution_count": 52,
   "id": "39e2d8f8",
   "metadata": {},
   "outputs": [],
   "source": [
    "def find_by_dist(s1, d, signals, solution):\n",
    "    return next(s2 for s2 in signals if s1 != s2 and s2 not in solution.values() and dist(s1, s2) == d)"
   ]
  },
  {
   "cell_type": "code",
   "execution_count": 65,
   "id": "e7b4c5c6",
   "metadata": {},
   "outputs": [],
   "source": [
    "def solve(signals):\n",
    "    solution = {}\n",
    "    for c, d in digits_by_count.items():\n",
    "        solution[d] = find_by_count(signals, c, solution)\n",
    "    solution[9] = find_by_dist(solution[4], 2, signals, solution)\n",
    "    solution[0] = find_by_dist(solution[7], 3, signals, solution)\n",
    "    solution[6] = find_by_count(signals, 6, solution)\n",
    "    solution[5] = find_by_dist(solution[6], -1, signals, solution)\n",
    "    solution[3] = find_by_dist(solution[9], -1, signals, solution)\n",
    "    solution[2] = next(s for s in signals if s not in solution.values())\n",
    "    return solution\n",
    "\n",
    "def convert_to_number(signals, solution):\n",
    "    rsolution = {v: k for k,v in solution.items()}\n",
    "    return int(''.join(str(rsolution[s]) for s in signals))\n",
    "\n",
    "def output_values(signals, solution):\n",
    "    return convert_to_number(outputs(signals), solution)"
   ]
  },
  {
   "cell_type": "code",
   "execution_count": 68,
   "id": "9abd1676",
   "metadata": {},
   "outputs": [
    {
     "data": {
      "text/plain": [
       "{1: 'ab',\n",
       " 4: 'abef',\n",
       " 7: 'abd',\n",
       " 8: 'abcdefg',\n",
       " 9: 'abcdef',\n",
       " 0: 'abcdeg',\n",
       " 6: 'bcdefg',\n",
       " 5: 'bcdef',\n",
       " 3: 'abcdf',\n",
       " 2: 'acdfg'}"
      ]
     },
     "execution_count": 68,
     "metadata": {},
     "output_type": "execute_result"
    }
   ],
   "source": [
    "solution = solve(signals[0])\n",
    "solution"
   ]
  },
  {
   "cell_type": "code",
   "execution_count": 70,
   "id": "2fc7a448",
   "metadata": {},
   "outputs": [
    {
     "data": {
      "text/plain": [
       "5353"
      ]
     },
     "execution_count": 70,
     "metadata": {},
     "output_type": "execute_result"
    }
   ],
   "source": [
    "output_values(signals[0], solution)"
   ]
  },
  {
   "cell_type": "code",
   "execution_count": 71,
   "id": "f4e5d348",
   "metadata": {},
   "outputs": [
    {
     "name": "stdout",
     "output_type": "stream",
     "text": [
      "[p1] Count of 1,4,7,8: 321\n",
      "[p2] Sum of outputs: 1028926\n"
     ]
    }
   ],
   "source": [
    "with open('../data/day08.txt') as infile:\n",
    "    signals = parse_signals(infile.read())\n",
    "    print('[p1] Count of 1,4,7,8:', sum(sum(len(o) in digits_by_count for o in outputs(s))\n",
    "                                        for s in signals))\n",
    "    print('[p2] Sum of outputs:', sum(output_values(s, solve(s)) for s in signals))"
   ]
  },
  {
   "cell_type": "code",
   "execution_count": null,
   "id": "80a19f7f",
   "metadata": {},
   "outputs": [],
   "source": []
  }
 ],
 "metadata": {
  "kernelspec": {
   "display_name": "Python 3 (ipykernel)",
   "language": "python",
   "name": "python3"
  },
  "language_info": {
   "codemirror_mode": {
    "name": "ipython",
    "version": 3
   },
   "file_extension": ".py",
   "mimetype": "text/x-python",
   "name": "python",
   "nbconvert_exporter": "python",
   "pygments_lexer": "ipython3",
   "version": "3.8.10"
  }
 },
 "nbformat": 4,
 "nbformat_minor": 5
}
