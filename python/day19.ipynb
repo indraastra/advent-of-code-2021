{
 "cells": [
  {
   "cell_type": "code",
   "execution_count": 95,
   "id": "bd4507c3",
   "metadata": {},
   "outputs": [],
   "source": [
    "import itertools\n",
    "import numpy as np\n",
    "from collections import Counter\n",
    "import multiprocessing\n",
    "\n",
    "PROCESSES = 4"
   ]
  },
  {
   "cell_type": "code",
   "execution_count": 96,
   "id": "4f19d032",
   "metadata": {},
   "outputs": [],
   "source": [
    "DIRS = (-1, 1)\n",
    "\n",
    "def transformations():\n",
    "    for v1, v2 in itertools.permutations(np.eye(3, 3, dtype=int), 2):\n",
    "        for d1, d2 in itertools.product(DIRS, DIRS):\n",
    "            v3 = np.cross(v1*d1, v2*d2)\n",
    "            yield np.stack([v1*d1, v2*d2, v3], axis=1)\n",
    "\n",
    "ts = list(transformations())\n",
    "MAX_DIST_1D = 1000\n",
    "\n",
    "def parse_scans(s):\n",
    "    scanners = s.split('\\n\\n')\n",
    "    return [np.array(sorted([[int(p) for p in l.split(',')] for l in s.splitlines()[1:]]), dtype=int)\n",
    "            for s in scanners]\n",
    "\n",
    "def points_in_common(p1s, p2s):\n",
    "    return (p1s[:, None] == p2s).all(2).any(1).sum()\n",
    "\n",
    "def match_points(p1s, p2s, min_matches=12):\n",
    "    for (i, p1), (j, p2) in itertools.product(enumerate(p1s), enumerate(p2s)):\n",
    "        if i + min_matches > len(p1s): break\n",
    "        translation = p1 - p2\n",
    "        #if np.absolute(translation).sum() > MAX_DIST_1D*6: continue\n",
    "        q2s = p2s + translation\n",
    "        if points_in_common(p1s, q2s) >= min_matches:\n",
    "            return translation, q2s\n",
    "\n",
    "def transform_match_points(p1s, p2s, min_matches=12):\n",
    "    for t in ts:\n",
    "        match = match_points(p1s, p2s @ t, min_matches)\n",
    "        if match is not None:\n",
    "            return match\n",
    "\n",
    "def map_beacons(scans, min_matches=12):\n",
    "    corrected = {0: scans[0]}\n",
    "    scanners = {0: np.zeros(3, dtype=int)}\n",
    "    visited = set()\n",
    "    \n",
    "    while len(corrected) != len(scans):\n",
    "        for i in corrected.keys() - visited:\n",
    "            p1s = corrected[i]\n",
    "            with multiprocessing.Pool(PROCESSES) as pool:\n",
    "                params = [(j, p1s, p2s, min_matches) for (j, p2s) in enumerate(scans)\n",
    "                          if j not in corrected]\n",
    "                results = [pool.apply_async(transform_match_points, p[1:]) for p in params]\n",
    "                for (j, *_), result in zip(params, results):\n",
    "                    match = result.get()\n",
    "                    if match is not None:\n",
    "                        print('matched', i, j)\n",
    "                        corrected[j] = match[1]\n",
    "                        scanners[j] = match[0]\n",
    "            visited.add(i)\n",
    "    \n",
    "    beacons = {tuple(p) for p in itertools.chain(*corrected.values())}\n",
    "    return beacons, scanners\n",
    "\n",
    "def manhattan_dist(q, r):\n",
    "    return np.absolute(q - r).sum()"
   ]
  },
  {
   "cell_type": "code",
   "execution_count": 97,
   "id": "9f77c593",
   "metadata": {},
   "outputs": [
    {
     "data": {
      "text/plain": [
       "24"
      ]
     },
     "execution_count": 97,
     "metadata": {},
     "output_type": "execute_result"
    }
   ],
   "source": [
    "len(ts)"
   ]
  },
  {
   "cell_type": "code",
   "execution_count": 98,
   "id": "d2cf9803",
   "metadata": {},
   "outputs": [
    {
     "data": {
      "text/plain": [
       "[array([[0, 2],\n",
       "        [3, 3],\n",
       "        [4, 1]]),\n",
       " array([[-5,  0],\n",
       "        [-2,  1],\n",
       "        [-1, -1]])]"
      ]
     },
     "execution_count": 98,
     "metadata": {},
     "output_type": "execute_result"
    }
   ],
   "source": [
    "scans = parse_scans(\"\"\"--- scanner 0 ---\n",
    "0,2\n",
    "4,1\n",
    "3,3\n",
    "\n",
    "--- scanner 1 ---\n",
    "-1,-1\n",
    "-5,0\n",
    "-2,1\"\"\")\n",
    "scans"
   ]
  },
  {
   "cell_type": "code",
   "execution_count": 99,
   "id": "61b70b32",
   "metadata": {},
   "outputs": [
    {
     "data": {
      "text/plain": [
       "(array([5, 2]),\n",
       " array([[0, 2],\n",
       "        [3, 3],\n",
       "        [4, 1]]))"
      ]
     },
     "execution_count": 99,
     "metadata": {},
     "output_type": "execute_result"
    }
   ],
   "source": [
    "match_points(scans[0], scans[1], 3)"
   ]
  },
  {
   "cell_type": "code",
   "execution_count": 100,
   "id": "70db468c",
   "metadata": {},
   "outputs": [],
   "source": [
    "scans = parse_scans(\"\"\"--- scanner 0 ---\n",
    "404,-588,-901\n",
    "528,-643,409\n",
    "-838,591,734\n",
    "390,-675,-793\n",
    "-537,-823,-458\n",
    "-485,-357,347\n",
    "-345,-311,381\n",
    "-661,-816,-575\n",
    "-876,649,763\n",
    "-618,-824,-621\n",
    "553,345,-567\n",
    "474,580,667\n",
    "-447,-329,318\n",
    "-584,868,-557\n",
    "544,-627,-890\n",
    "564,392,-477\n",
    "455,729,728\n",
    "-892,524,684\n",
    "-689,845,-530\n",
    "423,-701,434\n",
    "7,-33,-71\n",
    "630,319,-379\n",
    "443,580,662\n",
    "-789,900,-551\n",
    "459,-707,401\n",
    "\n",
    "--- scanner 1 ---\n",
    "686,422,578\n",
    "605,423,415\n",
    "515,917,-361\n",
    "-336,658,858\n",
    "95,138,22\n",
    "-476,619,847\n",
    "-340,-569,-846\n",
    "567,-361,727\n",
    "-460,603,-452\n",
    "669,-402,600\n",
    "729,430,532\n",
    "-500,-761,534\n",
    "-322,571,750\n",
    "-466,-666,-811\n",
    "-429,-592,574\n",
    "-355,545,-477\n",
    "703,-491,-529\n",
    "-328,-685,520\n",
    "413,935,-424\n",
    "-391,539,-444\n",
    "586,-435,557\n",
    "-364,-763,-893\n",
    "807,-499,-711\n",
    "755,-354,-619\n",
    "553,889,-390\n",
    "\n",
    "--- scanner 2 ---\n",
    "649,640,665\n",
    "682,-795,504\n",
    "-784,533,-524\n",
    "-644,584,-595\n",
    "-588,-843,648\n",
    "-30,6,44\n",
    "-674,560,763\n",
    "500,723,-460\n",
    "609,671,-379\n",
    "-555,-800,653\n",
    "-675,-892,-343\n",
    "697,-426,-610\n",
    "578,704,681\n",
    "493,664,-388\n",
    "-671,-858,530\n",
    "-667,343,800\n",
    "571,-461,-707\n",
    "-138,-166,112\n",
    "-889,563,-600\n",
    "646,-828,498\n",
    "640,759,510\n",
    "-630,509,768\n",
    "-681,-892,-333\n",
    "673,-379,-804\n",
    "-742,-814,-386\n",
    "577,-820,562\n",
    "\n",
    "--- scanner 3 ---\n",
    "-589,542,597\n",
    "605,-692,669\n",
    "-500,565,-823\n",
    "-660,373,557\n",
    "-458,-679,-417\n",
    "-488,449,543\n",
    "-626,468,-788\n",
    "338,-750,-386\n",
    "528,-832,-391\n",
    "562,-778,733\n",
    "-938,-730,414\n",
    "543,643,-506\n",
    "-524,371,-870\n",
    "407,773,750\n",
    "-104,29,83\n",
    "378,-903,-323\n",
    "-778,-728,485\n",
    "426,699,580\n",
    "-438,-605,-362\n",
    "-469,-447,-387\n",
    "509,732,623\n",
    "647,635,-688\n",
    "-868,-804,481\n",
    "614,-800,639\n",
    "595,780,-596\n",
    "\n",
    "--- scanner 4 ---\n",
    "727,592,562\n",
    "-293,-554,779\n",
    "441,611,-461\n",
    "-714,465,-776\n",
    "-743,427,-804\n",
    "-660,-479,-426\n",
    "832,-632,460\n",
    "927,-485,-438\n",
    "408,393,-506\n",
    "466,436,-512\n",
    "110,16,151\n",
    "-258,-428,682\n",
    "-393,719,612\n",
    "-211,-452,876\n",
    "808,-476,-593\n",
    "-575,615,604\n",
    "-485,667,467\n",
    "-680,325,-822\n",
    "-627,-443,-432\n",
    "872,-547,-609\n",
    "833,512,582\n",
    "807,604,487\n",
    "839,-516,451\n",
    "891,-625,532\n",
    "-652,-548,-490\n",
    "30,-46,-14\"\"\")"
   ]
  },
  {
   "cell_type": "code",
   "execution_count": 101,
   "id": "073dfdfc",
   "metadata": {},
   "outputs": [
    {
     "name": "stdout",
     "output_type": "stream",
     "text": [
      "matched 0 1\n",
      "matched 0 4\n",
      "matched 1 2\n",
      "matched 1 3\n",
      "CPU times: user 30.4 ms, sys: 36.4 ms, total: 66.7 ms\n",
      "Wall time: 654 ms\n"
     ]
    },
    {
     "data": {
      "text/plain": [
       "79"
      ]
     },
     "execution_count": 101,
     "metadata": {},
     "output_type": "execute_result"
    }
   ],
   "source": [
    "%%time\n",
    "beacons, scanners = map_beacons(scans, 6)\n",
    "len(beacons)"
   ]
  },
  {
   "cell_type": "code",
   "execution_count": 93,
   "id": "b0bd6c0c",
   "metadata": {},
   "outputs": [
    {
     "name": "stdout",
     "output_type": "stream",
     "text": [
      "matched 0 3\n",
      "matched 0 7\n",
      "matched 0 32\n",
      "matched 0 35\n",
      "matched 32 4\n",
      "matched 32 17\n",
      "matched 32 19\n",
      "matched 32 28\n",
      "matched 3 23\n",
      "matched 35 1\n",
      "matched 35 6\n",
      "matched 35 11\n",
      "matched 35 14\n",
      "matched 7 36\n",
      "matched 1 22\n",
      "matched 1 27\n",
      "matched 6 5\n",
      "matched 6 12\n",
      "matched 6 37\n",
      "matched 36 2\n",
      "matched 36 29\n",
      "matched 11 25\n",
      "matched 17 8\n",
      "matched 17 34\n",
      "matched 28 30\n",
      "matched 5 18\n",
      "matched 8 21\n",
      "matched 12 15\n",
      "matched 29 31\n",
      "matched 30 9\n",
      "matched 30 26\n",
      "matched 37 24\n",
      "matched 9 10\n",
      "matched 9 16\n",
      "matched 21 20\n",
      "matched 26 13\n",
      "matched 20 33\n",
      "[p1] Num beacons: 428\n",
      "[p2] Max Manhattan dist: 12140\n",
      "CPU times: user 1.73 s, sys: 1.1 s, total: 2.82 s\n",
      "Wall time: 1min 1s\n"
     ]
    }
   ],
   "source": [
    "%%time\n",
    "with open('../data/day19.txt') as infile:\n",
    "    scans = parse_scans(infile.read())\n",
    "    beacons, scanners = map_beacons(scans)\n",
    "    print('[p1] Num beacons:', len(beacons))\n",
    "    print('[p2] Max Manhattan dist:', max(manhattan_dist(s1, s2) for (s1, s2)\n",
    "                                          in itertools.combinations(scanners.values(), 2)))"
   ]
  },
  {
   "cell_type": "code",
   "execution_count": null,
   "id": "eb7234e9",
   "metadata": {},
   "outputs": [],
   "source": []
  }
 ],
 "metadata": {
  "kernelspec": {
   "display_name": "Python 3 (ipykernel)",
   "language": "python",
   "name": "python3"
  },
  "language_info": {
   "codemirror_mode": {
    "name": "ipython",
    "version": 3
   },
   "file_extension": ".py",
   "mimetype": "text/x-python",
   "name": "python",
   "nbconvert_exporter": "python",
   "pygments_lexer": "ipython3",
   "version": "3.10.1"
  }
 },
 "nbformat": 4,
 "nbformat_minor": 5
}
