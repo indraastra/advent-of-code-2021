{
 "cells": [
  {
   "cell_type": "code",
   "execution_count": 82,
   "id": "fa653420",
   "metadata": {},
   "outputs": [],
   "source": [
    "from functools import reduce\n",
    "\n",
    "openings = '([{<'\n",
    "closings = ')]}>'\n",
    "error_scores = {\n",
    "    ')': 3,\n",
    "    ']': 57,\n",
    "    '}': 1197,\n",
    "    '>': 25137\n",
    "}\n",
    "repair_scores = {\n",
    "    ')': 1,\n",
    "    ']': 2,\n",
    "    '}': 3,\n",
    "    '>': 4\n",
    "}\n",
    "\n",
    "def close(c):\n",
    "    return closings[openings.find(c)]\n",
    "\n",
    "def close_all(cs):\n",
    "    return (close(c) for c in reversed(cs))\n",
    "\n",
    "def is_corrupted(chunk, stack=None):\n",
    "    stack = stack if stack is not None else []\n",
    "    for i, c in enumerate(chunk):\n",
    "        if c in openings:\n",
    "            stack.append(c)\n",
    "            continue\n",
    "        p = stack.pop()\n",
    "        if openings.find(p) == closings.find(c):\n",
    "            continue\n",
    "        #print('Expected closing for', p, 'but found', c, 'at pos', i)\n",
    "        stack.append(p)\n",
    "        return c\n",
    "    \n",
    "def error_score(chunk):\n",
    "    if c := is_corrupted(chunk):\n",
    "        return error_scores[c]\n",
    "    else:\n",
    "        return 0\n",
    "\n",
    "_repair_scorer = lambda total, c: total*5 + repair_scores[c]\n",
    "    \n",
    "def repair_score(chunk):\n",
    "    stack = []\n",
    "    if c := is_corrupted(chunk, stack):\n",
    "        return 0\n",
    "    return reduce(_repair_scorer, close_all(stack), 0)"
   ]
  },
  {
   "cell_type": "code",
   "execution_count": 69,
   "id": "f21dfc38",
   "metadata": {},
   "outputs": [
    {
     "name": "stdout",
     "output_type": "stream",
     "text": [
      "Expected closing for [ but found } at pos 12\n"
     ]
    },
    {
     "data": {
      "text/plain": [
       "'}'"
      ]
     },
     "execution_count": 69,
     "metadata": {},
     "output_type": "execute_result"
    }
   ],
   "source": [
    "is_corrupted('{([(<{}[<>[]}>{[]{[(<()>')"
   ]
  },
  {
   "cell_type": "code",
   "execution_count": 68,
   "id": "b377b23c",
   "metadata": {},
   "outputs": [
    {
     "data": {
      "text/plain": [
       "294"
      ]
     },
     "execution_count": 68,
     "metadata": {},
     "output_type": "execute_result"
    }
   ],
   "source": [
    "repair_score('<{([{{}}[<[[[<>{}]]]>[]]')"
   ]
  },
  {
   "cell_type": "code",
   "execution_count": 76,
   "id": "f7d7e78b",
   "metadata": {},
   "outputs": [
    {
     "data": {
      "text/plain": [
       "1480781"
      ]
     },
     "execution_count": 76,
     "metadata": {},
     "output_type": "execute_result"
    }
   ],
   "source": [
    "repair_score('(((({<>}<{<{<>}{[]{[]{}')"
   ]
  },
  {
   "cell_type": "code",
   "execution_count": 83,
   "id": "66c22783",
   "metadata": {},
   "outputs": [
    {
     "name": "stdout",
     "output_type": "stream",
     "text": [
      "[p1] Total error score: 268845\n",
      "[p2] Middle repair score: 4038824534\n"
     ]
    }
   ],
   "source": [
    "with open('../data/day10.txt') as infile:\n",
    "    lines = [l.strip() for l in infile]\n",
    "    print('[p1] Total error score:', sum(error_score(l) for l in lines))\n",
    "    scores = [s for s in sorted(repair_score(l) for l in lines) if s > 0]\n",
    "    print('[p2] Middle repair score:', scores[len(scores)//2])"
   ]
  }
 ],
 "metadata": {
  "kernelspec": {
   "display_name": "Python 3 (ipykernel)",
   "language": "python",
   "name": "python3"
  },
  "language_info": {
   "codemirror_mode": {
    "name": "ipython",
    "version": 3
   },
   "file_extension": ".py",
   "mimetype": "text/x-python",
   "name": "python",
   "nbconvert_exporter": "python",
   "pygments_lexer": "ipython3",
   "version": "3.8.10"
  }
 },
 "nbformat": 4,
 "nbformat_minor": 5
}
