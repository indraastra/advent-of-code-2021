{
 "cells": [
  {
   "cell_type": "code",
   "execution_count": 8,
   "id": "1d1d5033",
   "metadata": {},
   "outputs": [],
   "source": [
    "import numpy as np\n",
    "import scipy.signal"
   ]
  },
  {
   "cell_type": "code",
   "execution_count": 3,
   "id": "afd363aa",
   "metadata": {},
   "outputs": [],
   "source": [
    "def parse_matrix(s):\n",
    "    return np.array([[int(n) for n in l] for l in s.splitlines()], dtype=int)"
   ]
  },
  {
   "cell_type": "code",
   "execution_count": 70,
   "id": "ddac8b11",
   "metadata": {},
   "outputs": [],
   "source": [
    "min_filters = [\n",
    "    np.array([[0, 0, 0], [0, 1, 0], [0, -1, 0]], dtype=int),\n",
    "    np.array([[0, 0, 0], [0, 1, -1], [0, 0, 0]], dtype=int),\n",
    "    np.array([[0, 0, 0], [-1, 1, 0], [0, 0, 0]], dtype=int),\n",
    "    np.array([[0, -1, 0], [0, 1, 0], [0, 0, 0]], dtype=int)\n",
    "]\n",
    "\n",
    "def find_minima(height_map):\n",
    "    minima_1d = [scipy.signal.convolve2d(height_map, f, mode='same', fillvalue=10) < 0 for f in min_filters]\n",
    "    return np.all(minima_1d, axis=0)\n",
    "\n",
    "def risk_level(height_map, minima):\n",
    "    return (height_map[minima] + 1).sum()"
   ]
  },
  {
   "cell_type": "code",
   "execution_count": 127,
   "id": "9a2bf77f",
   "metadata": {},
   "outputs": [],
   "source": [
    "def neighbors(x, i, j):\n",
    "    for di, dj in ((-1, 0), (0, -1), (1, 0), (0, 1)):\n",
    "        if 0 <= i+di < x.shape[0] and 0 <= j+dj < x.shape[1]:\n",
    "            yield (i+di, j+dj)\n",
    "\n",
    "def basin_size(height_map, i, j):\n",
    "    to_visit = [(i, j)]\n",
    "    visited = set()\n",
    "    size = 0\n",
    "    while to_visit:\n",
    "        pos = to_visit.pop()\n",
    "        if pos in visited: continue\n",
    "        visited.add(pos)\n",
    "        i, j = pos\n",
    "        size += 1\n",
    "        for ni, nj in neighbors(height_map, i, j):\n",
    "            h = height_map[ni, nj]\n",
    "            if (ni, nj) in visited or h <= height_map[i, j] or h == 9:\n",
    "                continue\n",
    "            to_visit.append((ni, nj))\n",
    "    return size\n",
    "\n",
    "def basin_sizes(height_map, minima):\n",
    "    return [basin_size(height_map, i, j) for i, j in zip(*minima.nonzero())]"
   ]
  },
  {
   "cell_type": "code",
   "execution_count": 128,
   "id": "699ec9f0",
   "metadata": {},
   "outputs": [],
   "source": [
    "height_map = parse_matrix(\"\"\"2199943210\n",
    "3987894921\n",
    "9856789892\n",
    "8767896789\n",
    "9899965678\"\"\")\n",
    "height_map\n",
    "minima = find_minima(height_map)"
   ]
  },
  {
   "cell_type": "code",
   "execution_count": 129,
   "id": "395988f2",
   "metadata": {},
   "outputs": [
    {
     "data": {
      "text/plain": [
       "[3, 9, 14, 9]"
      ]
     },
     "execution_count": 129,
     "metadata": {},
     "output_type": "execute_result"
    }
   ],
   "source": [
    "basin_sizes(height_map, minima)"
   ]
  },
  {
   "cell_type": "code",
   "execution_count": 119,
   "id": "5c310e76",
   "metadata": {},
   "outputs": [
    {
     "name": "stdout",
     "output_type": "stream",
     "text": [
      "[p1] Risk level: 526\n",
      "[p2] Largest 3 basins: 1123524\n"
     ]
    }
   ],
   "source": [
    "with open('../data/day09.txt') as infile:\n",
    "    height_map = parse_matrix(infile.read())\n",
    "    minima = find_minima(height_map)\n",
    "    print('[p1] Risk level:', risk_level(height_map, minima))\n",
    "    print('[p2] Largest 3 basins:', np.product(sorted(basin_sizes(height_map, minima))[-3:]))"
   ]
  },
  {
   "cell_type": "code",
   "execution_count": null,
   "id": "e228b9d6",
   "metadata": {},
   "outputs": [],
   "source": []
  }
 ],
 "metadata": {
  "kernelspec": {
   "display_name": "Python 3 (ipykernel)",
   "language": "python",
   "name": "python3"
  },
  "language_info": {
   "codemirror_mode": {
    "name": "ipython",
    "version": 3
   },
   "file_extension": ".py",
   "mimetype": "text/x-python",
   "name": "python",
   "nbconvert_exporter": "python",
   "pygments_lexer": "ipython3",
   "version": "3.8.10"
  }
 },
 "nbformat": 4,
 "nbformat_minor": 5
}
