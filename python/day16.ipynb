{
 "cells": [
  {
   "cell_type": "code",
   "execution_count": 125,
   "id": "3044c371",
   "metadata": {},
   "outputs": [],
   "source": [
    "from dataclasses import dataclass\n",
    "from typing import List, Union\n",
    "from functools import reduce\n",
    "\n",
    "LITERAL = 4\n",
    "\n",
    "@dataclass\n",
    "class Packet:\n",
    "    version: int\n",
    "    type_id: int\n",
    "    data: Union[int, List['Packet']]"
   ]
  },
  {
   "cell_type": "code",
   "execution_count": 170,
   "id": "ee52f195",
   "metadata": {},
   "outputs": [],
   "source": [
    "def hex2bin(h):\n",
    "    return ''.join(format(int(c, 16), 'b').zfill(4) for c in h)\n",
    "\n",
    "def parse_header(p):\n",
    "    version = int(p[:3],  2)\n",
    "    type_id = int(p[3:6], 2)\n",
    "    return (version, type_id), p[6:]\n",
    "\n",
    "def parse_literal(p):\n",
    "    literal = []\n",
    "    last = False\n",
    "    while not last:\n",
    "        last = p[0] == '0'\n",
    "        literal.append(p[1:5])\n",
    "        p = p[5:]\n",
    "    return int(''.join(literal), 2), p\n",
    "\n",
    "def parse_int(p, n_bits):\n",
    "    i = int(p[:n_bits], 2)\n",
    "    return i, p[n_bits:]\n",
    "\n",
    "def parse_packet(p):\n",
    "    (version, type_id), p = parse_header(p)\n",
    "    if type_id == LITERAL:\n",
    "        data, p = parse_literal(p)\n",
    "    else:\n",
    "        data = []\n",
    "        length_id, p = p[0], p[1:]\n",
    "        if length_id == '0':\n",
    "            n_bits, p = parse_int(p, 15)\n",
    "            while n_bits > 0:\n",
    "                packet, q = parse_packet(p)\n",
    "                n_bits -= len(p) - len(q)\n",
    "                p = q\n",
    "                data.append(packet)\n",
    "        else:\n",
    "            n_packets, p = parse_int(p, 11)\n",
    "            while len(data) != n_packets:\n",
    "                packet, p = parse_packet(p)\n",
    "                data.append(packet)\n",
    "    return Packet(version, type_id, data), p\n",
    "\n",
    "def flatten_packet(p):\n",
    "    yield p\n",
    "    if isinstance(p.data, List):\n",
    "        for c in p.data:\n",
    "            yield from flatten_packets(c)\n",
    "\n",
    "def product(xs):\n",
    "    return reduce(lambda x, y: x * y, xs, 1)\n",
    "            \n",
    "_ops = {\n",
    "    0: sum,\n",
    "    1: product,\n",
    "    2: min,\n",
    "    3: max,\n",
    "    5: lambda xs: 1 if xs[0] > xs[1] else 0,  # GT\n",
    "    6: lambda xs: 1 if xs[0] < xs[1] else 0,  # LT\n",
    "    7: lambda xs: 1 if xs[0] == xs[1] else 0, # EQ\n",
    "}\n",
    "def eval_packet(p):\n",
    "    if p.type_id == 4:\n",
    "        return p.data\n",
    "    return _ops[p.type_id]([eval_packet(q) for q in p.data])"
   ]
  },
  {
   "cell_type": "code",
   "execution_count": 171,
   "id": "0630951f",
   "metadata": {},
   "outputs": [
    {
     "data": {
      "text/plain": [
       "(Packet(version=6, type_id=4, data=2021), '000')"
      ]
     },
     "execution_count": 171,
     "metadata": {},
     "output_type": "execute_result"
    }
   ],
   "source": [
    "parse_packet(hex2bin('D2FE28'))"
   ]
  },
  {
   "cell_type": "code",
   "execution_count": 172,
   "id": "33a23b68",
   "metadata": {},
   "outputs": [
    {
     "data": {
      "text/plain": [
       "1"
      ]
     },
     "execution_count": 172,
     "metadata": {},
     "output_type": "execute_result"
    }
   ],
   "source": [
    "eval_packet(parse_packet(hex2bin('9C0141080250320F1802104A08'))[0])"
   ]
  },
  {
   "cell_type": "code",
   "execution_count": 173,
   "id": "43f3e7b9",
   "metadata": {},
   "outputs": [
    {
     "name": "stdout",
     "output_type": "stream",
     "text": [
      "[p1] Sum of packet versions: 847\n",
      "[p2] Evaluated packet: 333794664059\n"
     ]
    }
   ],
   "source": [
    "with open('../data/day16.txt') as infile:\n",
    "    root, remaining = parse_packet(hex2bin(infile.read().strip()))\n",
    "    print('[p1] Sum of packet versions:', sum(p.version for p in flatten_packet(root)))\n",
    "    print('[p2] Evaluated packet:', eval_packet(root))"
   ]
  },
  {
   "cell_type": "code",
   "execution_count": null,
   "id": "7df6116d",
   "metadata": {},
   "outputs": [],
   "source": []
  }
 ],
 "metadata": {
  "kernelspec": {
   "display_name": "Python 3 (ipykernel)",
   "language": "python",
   "name": "python3"
  },
  "language_info": {
   "codemirror_mode": {
    "name": "ipython",
    "version": 3
   },
   "file_extension": ".py",
   "mimetype": "text/x-python",
   "name": "python",
   "nbconvert_exporter": "python",
   "pygments_lexer": "ipython3",
   "version": "3.10.1"
  }
 },
 "nbformat": 4,
 "nbformat_minor": 5
}
