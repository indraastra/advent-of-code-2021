{
 "cells": [
  {
   "cell_type": "code",
   "execution_count": 4,
   "id": "538ed2aa",
   "metadata": {},
   "outputs": [],
   "source": [
    "from dataclasses import dataclass\n",
    "from typing import Union\n",
    "import math"
   ]
  },
  {
   "cell_type": "code",
   "execution_count": 8,
   "id": "38072560",
   "metadata": {},
   "outputs": [],
   "source": [
    "Node = Union[int, 'Pair']\n",
    "\n",
    "@dataclass\n",
    "class Pair:\n",
    "    left: Node\n",
    "    right: Node\n",
    "        \n",
    "def split(i):\n",
    "    return Pair(i // 2, round(i / 2))\n",
    "    \n",
    "def explode(p):\n",
    "    "
   ]
  },
  {
   "cell_type": "code",
   "execution_count": 13,
   "id": "3ad5039f",
   "metadata": {},
   "outputs": [
    {
     "data": {
      "text/plain": [
       "Pair(left=11, right=12)"
      ]
     },
     "execution_count": 13,
     "metadata": {},
     "output_type": "execute_result"
    }
   ],
   "source": [
    "split(Pair(11, 12))"
   ]
  },
  {
   "cell_type": "code",
   "execution_count": null,
   "id": "0a8b664c",
   "metadata": {},
   "outputs": [],
   "source": [
    "xs = [[[0,[4,5]],[0,0]],[[[4,5],[2,6]],[9,5]]]\n",
    "build_tree(xs)"
   ]
  },
  {
   "cell_type": "code",
   "execution_count": 1,
   "id": "884a7039",
   "metadata": {},
   "outputs": [],
   "source": [
    "def build_tree(xs):\n",
    "    pass"
   ]
  }
 ],
 "metadata": {
  "kernelspec": {
   "display_name": "Python 3 (ipykernel)",
   "language": "python",
   "name": "python3"
  },
  "language_info": {
   "codemirror_mode": {
    "name": "ipython",
    "version": 3
   },
   "file_extension": ".py",
   "mimetype": "text/x-python",
   "name": "python",
   "nbconvert_exporter": "python",
   "pygments_lexer": "ipython3",
   "version": "3.10.1"
  }
 },
 "nbformat": 4,
 "nbformat_minor": 5
}
