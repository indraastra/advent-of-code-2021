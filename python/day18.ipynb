{
 "cells": [
  {
   "cell_type": "code",
   "execution_count": 267,
   "id": "d6d508a4",
   "metadata": {},
   "outputs": [],
   "source": [
    "from dataclasses import dataclass\n",
    "from typing import Union\n",
    "import math\n",
    "import json\n",
    "from functools import reduce\n",
    "from itertools import permutations\n",
    "import copy"
   ]
  },
  {
   "cell_type": "code",
   "execution_count": 301,
   "id": "d1b8120a",
   "metadata": {},
   "outputs": [],
   "source": [
    "@dataclass\n",
    "class Node:\n",
    "    value: Union[int, 'Pair']\n",
    "        \n",
    "    def __repr__(self):\n",
    "        return repr(self.value)\n",
    "\n",
    "@dataclass\n",
    "class Pair:\n",
    "    left: Node\n",
    "    right: Node\n",
    "        \n",
    "    def __repr__(self):\n",
    "        return f'[{self.left}, {self.right}]'\n",
    "        \n",
    "def split(n):\n",
    "    half = n.value // 2\n",
    "    n.value = Pair(Node(half), Node(half if n.value % 2 == 0 else half+1))\n",
    "    \n",
    "def explode(n, l, r):\n",
    "    if l: l.value += n.value.left.value\n",
    "    if r: r.value += n.value.right.value\n",
    "    n.value = 0\n",
    "\n",
    "def build_nodes(xs):\n",
    "    if isinstance(xs, list):\n",
    "        left, right = xs\n",
    "        return Node(Pair(build_nodes(left), build_nodes(right)))\n",
    "    else:\n",
    "        return Node(xs)\n",
    "    \n",
    "def reduce_number(n):\n",
    "    def _reduce_split(n, state):\n",
    "        if isinstance(n.value, Pair):\n",
    "            return (_reduce_split(n.value.left, state) or\n",
    "                    _reduce_split(n.value.right, state))\n",
    "        elif n.value >= 10:\n",
    "            state['node'] = n\n",
    "            return True\n",
    "        else:\n",
    "            return False\n",
    "            \n",
    "    def _reduce_explode(n, state, level=1):\n",
    "        if isinstance(n.value, Pair):\n",
    "            if level > 4 and 'node' not in state:\n",
    "                state['node'] = n\n",
    "            else:\n",
    "                return (_reduce_explode(n.value.left, state, level+1) or\n",
    "                        _reduce_explode(n.value.right, state, level+1) or\n",
    "                        (level == 1 and 'node' in state))\n",
    "        else:\n",
    "            if 'node' in state:\n",
    "                state['right'] = n\n",
    "                return True\n",
    "            else:\n",
    "                state['left'] = n\n",
    "        return False\n",
    "\n",
    "    while True:\n",
    "        state = {}\n",
    "        if _reduce_explode(n, state):\n",
    "            explode(state['node'], state.get('left'), state.get('right'))\n",
    "        elif _reduce_split(n, state):\n",
    "            split(state['node'])\n",
    "        else: \n",
    "            return n\n",
    "\n",
    "def parse_numbers(s):\n",
    "    return [build_nodes(json.loads(l)) for l in s.splitlines()]\n",
    "\n",
    "def sum_numbers(ns):\n",
    "    ns = copy.deepcopy(ns)\n",
    "    return reduce(lambda acc, n: reduce_number(Node(Pair(acc, n))), ns[1:], ns[0])\n",
    "\n",
    "def magnitude(n):\n",
    "    if isinstance(n.value, Pair):\n",
    "        return 3*magnitude(n.value.left) + 2*magnitude(n.value.right)\n",
    "    else:\n",
    "        return n.value\n",
    "    \n",
    "def max_magnitude(ns):\n",
    "    return max(magnitude(sum_numbers(np)) for np in permutations(ns, 2))"
   ]
  },
  {
   "cell_type": "code",
   "execution_count": 302,
   "id": "6100c404",
   "metadata": {},
   "outputs": [
    {
     "data": {
      "text/plain": [
       "3993"
      ]
     },
     "execution_count": 302,
     "metadata": {},
     "output_type": "execute_result"
    }
   ],
   "source": [
    "max_magnitude(parse_numbers(\"\"\"[[[0,[5,8]],[[1,7],[9,6]]],[[4,[1,2]],[[1,4],2]]]\n",
    "[[[5,[2,8]],4],[5,[[9,9],0]]]\n",
    "[6,[[[6,2],[5,6]],[[7,6],[4,7]]]]\n",
    "[[[6,[0,7]],[0,9]],[4,[9,[9,0]]]]\n",
    "[[[7,[6,4]],[3,[1,3]]],[[[5,5],1],9]]\n",
    "[[6,[[7,3],[3,2]]],[[[3,8],[5,7]],4]]\n",
    "[[[[5,4],[7,7]],8],[[8,3],8]]\n",
    "[[9,3],[[9,9],[6,[4,9]]]]\n",
    "[[2,[[7,7],7]],[[5,8],[[9,3],[0,2]]]]\n",
    "[[[[5,2],5],[8,[3,7]]],[[5,[7,5]],[4,4]]]\"\"\"))"
   ]
  },
  {
   "cell_type": "code",
   "execution_count": 303,
   "id": "20e9dc69",
   "metadata": {},
   "outputs": [
    {
     "data": {
      "text/plain": [
       "[[[[0, 7], 4], [[7, 8], [6, 0]]], [8, 1]]"
      ]
     },
     "execution_count": 303,
     "metadata": {},
     "output_type": "execute_result"
    }
   ],
   "source": [
    "ns = parse_numbers(\"\"\"[[[[4,3],4],4],[7,[[8,4],9]]]\n",
    "[1,1]\"\"\")\n",
    "sum_numbers(ns)"
   ]
  },
  {
   "cell_type": "code",
   "execution_count": 304,
   "id": "12a71e95",
   "metadata": {},
   "outputs": [
    {
     "data": {
      "text/plain": [
       "[[[[8, 7], [7, 7]], [[8, 6], [7, 7]]], [[[0, 7], [6, 6]], [8, 7]]]"
      ]
     },
     "execution_count": 304,
     "metadata": {},
     "output_type": "execute_result"
    }
   ],
   "source": [
    "ns = parse_numbers(\"\"\"[[[0,[4,5]],[0,0]],[[[4,5],[2,6]],[9,5]]]\n",
    "[7,[[[3,7],[4,3]],[[6,3],[8,8]]]]\n",
    "[[2,[[0,8],[3,4]]],[[[6,7],1],[7,[1,6]]]]\n",
    "[[[[2,4],7],[6,[0,5]]],[[[6,8],[2,8]],[[2,1],[4,5]]]]\n",
    "[7,[5,[[3,8],[1,4]]]]\n",
    "[[2,[2,2]],[8,[8,1]]]\n",
    "[2,9]\n",
    "[1,[[[9,3],9],[[9,0],[0,7]]]]\n",
    "[[[5,[7,4]],7],1]\n",
    "[[[[4,2],2],6],[8,7]]\"\"\")\n",
    "sum_numbers(ns)"
   ]
  },
  {
   "cell_type": "code",
   "execution_count": 305,
   "id": "02a62599",
   "metadata": {},
   "outputs": [
    {
     "name": "stdout",
     "output_type": "stream",
     "text": [
      "[p1] Magnitude of sum: 3816\n",
      "[p2] Max magnitude: 4819\n",
      "CPU times: user 4.64 s, sys: 0 ns, total: 4.64 s\n",
      "Wall time: 4.64 s\n"
     ]
    }
   ],
   "source": [
    "%%time\n",
    "with open('../data/day18.txt') as infile:\n",
    "    ns = parse_numbers(infile.read())\n",
    "    print('[p1] Magnitude of sum:', magnitude(sum_numbers(ns)))\n",
    "    print('[p2] Max magnitude:', max_magnitude(ns))"
   ]
  },
  {
   "cell_type": "code",
   "execution_count": null,
   "id": "81ca1051",
   "metadata": {},
   "outputs": [],
   "source": []
  }
 ],
 "metadata": {
  "kernelspec": {
   "display_name": "Python 3 (ipykernel)",
   "language": "python",
   "name": "python3"
  },
  "language_info": {
   "codemirror_mode": {
    "name": "ipython",
    "version": 3
   },
   "file_extension": ".py",
   "mimetype": "text/x-python",
   "name": "python",
   "nbconvert_exporter": "python",
   "pygments_lexer": "ipython3",
   "version": "3.10.1"
  }
 },
 "nbformat": 4,
 "nbformat_minor": 5
}
