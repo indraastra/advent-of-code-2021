{
 "cells": [
  {
   "cell_type": "code",
   "execution_count": 1,
   "id": "e71a9daa",
   "metadata": {},
   "outputs": [],
   "source": [
    "import numpy as np"
   ]
  },
  {
   "cell_type": "code",
   "execution_count": 156,
   "id": "41f328f3",
   "metadata": {},
   "outputs": [
    {
     "data": {
      "text/plain": [
       "array([[256, 128,  64],\n",
       "       [ 32,  16,   8],\n",
       "       [  4,   2,   1]])"
      ]
     },
     "execution_count": 156,
     "metadata": {},
     "output_type": "execute_result"
    }
   ],
   "source": [
    "kernel = np.flip(2 ** np.arange(9)).reshape(3, 3)\n",
    "kernel"
   ]
  },
  {
   "cell_type": "code",
   "execution_count": 159,
   "id": "fd4f86ee",
   "metadata": {},
   "outputs": [
    {
     "data": {
      "text/plain": [
       "array([[False, False, False],\n",
       "       [ True, False,  True],\n",
       "       [False,  True, False]])"
      ]
     },
     "execution_count": 159,
     "metadata": {},
     "output_type": "execute_result"
    }
   ],
   "source": [
    "np.array(key)[kernel]"
   ]
  },
  {
   "cell_type": "code",
   "execution_count": 198,
   "id": "980026a7",
   "metadata": {},
   "outputs": [],
   "source": [
    "def parse_int(s):\n",
    "    return [c == '#' for c in s]\n",
    "\n",
    "def parse_image(s):\n",
    "    key, img = s.split('\\n\\n')\n",
    "    key = np.array(parse_int(key.strip()))\n",
    "    img = np.array([parse_int(l) for l in img.strip().splitlines()], dtype=bool)\n",
    "    return key, img\n",
    "\n",
    "def pad_image(img, padding=2, boundary=False):\n",
    "    return np.pad(img, padding, mode='constant', constant_values=boundary)\n",
    "\n",
    "def enhance_pixel(pix, key):\n",
    "    return key[int(''.join('01'[int(i)] for i in pix.ravel()), 2)]\n",
    "\n",
    "def pixel_windows(img):\n",
    "    return np.lib.stride_tricks.sliding_window_view(img, (3, 3)).reshape((-1, 3, 3))\n",
    "\n",
    "def enhance(img, key, boundary=False):\n",
    "    padded = pad_image(img, boundary=boundary)\n",
    "    new_boundary = bool(key[(0, -1)[boundary]])\n",
    "    windows = (np.lib.stride_tricks.sliding_window_view(padded, (3, 3)) * kernel)\n",
    "    new_image = key[windows.sum(axis=(2, 3))]\n",
    "    return new_image, new_boundary\n",
    "\n",
    "def enhance_n(img, key, n):\n",
    "    boundary = False\n",
    "    for _ in range(n):\n",
    "        img, boundary = enhance(img, key, boundary)\n",
    "    return img\n",
    "\n",
    "def show_image(img):\n",
    "    print('\\n'.join(''.join('.#'[int(i)] for i in row) for row in img))"
   ]
  },
  {
   "cell_type": "code",
   "execution_count": 199,
   "id": "c44d78a6",
   "metadata": {},
   "outputs": [],
   "source": [
    "key, img = parse_image(\"\"\"..#.#..#####.#.#.#.###.##.....###.##.#..###.####..#####..#....#..#..##..###..######.###...####..#..#####..##..#.#####...##.#.#..#.##..#.#......#.###.######.###.####...#.##.##..#..#..#####.....#.#....###..#.##......#.....#..#..#..##..#...##.######.####.####.#.#...#.......#..#.#.#...####.##.#......#..#...##.#.##..#...##.#.##..###.#......#.#.......#.#.#.####.###.##...#.....####.#..#..#.##.#....##..#.####....##...##..#...#......#.#.......#.......##..####..#...#.#.#...##..#.#..###..#####........#..####......#..#\n",
    "\n",
    "#..#.\n",
    "#....\n",
    "##..#\n",
    "..#..\n",
    "..###\"\"\")"
   ]
  },
  {
   "cell_type": "code",
   "execution_count": 200,
   "id": "fd392777",
   "metadata": {},
   "outputs": [
    {
     "name": "stdout",
     "output_type": "stream",
     "text": [
      ".##.##.\n",
      "#..#.#.\n",
      "##.#..#\n",
      "####..#\n",
      ".#..##.\n",
      "..##..#\n",
      "...#.#.\n"
     ]
    }
   ],
   "source": [
    "img = enhance_n(img, key, 1)\n",
    "show_image(img)"
   ]
  },
  {
   "cell_type": "code",
   "execution_count": 201,
   "id": "44bb028f",
   "metadata": {},
   "outputs": [
    {
     "name": "stdout",
     "output_type": "stream",
     "text": [
      ".......#.\n",
      ".#..#.#..\n",
      "#.#...###\n",
      "#...##.#.\n",
      "#.....#.#\n",
      ".#.#####.\n",
      "..#.#####\n",
      "...##.##.\n",
      "....###..\n"
     ]
    }
   ],
   "source": [
    "img = enhance_n(img, key, 1)\n",
    "show_image(img)"
   ]
  },
  {
   "cell_type": "code",
   "execution_count": 202,
   "id": "48a68008",
   "metadata": {},
   "outputs": [
    {
     "name": "stdout",
     "output_type": "stream",
     "text": [
      "3565\n"
     ]
    }
   ],
   "source": [
    "img = enhance_n(img, key, 50)\n",
    "print(img.sum())"
   ]
  },
  {
   "cell_type": "code",
   "execution_count": 203,
   "id": "14a0c7ee",
   "metadata": {},
   "outputs": [
    {
     "name": "stdout",
     "output_type": "stream",
     "text": [
      "[p1] Number of lit pixels after 2: 5057\n",
      "[p2] Number of lit pixels after 50: 18502\n",
      "CPU times: user 122 ms, sys: 4.04 ms, total: 126 ms\n",
      "Wall time: 123 ms\n"
     ]
    }
   ],
   "source": [
    "%%time\n",
    "with open('../data/day20.txt') as infile:\n",
    "    key, img = parse_image(infile.read())\n",
    "    print('[p1] Number of lit pixels after 2:', enhance_n(img, key, 2).sum())    \n",
    "    print('[p2] Number of lit pixels after 50:', enhance_n(img, key, 50).sum())"
   ]
  }
 ],
 "metadata": {
  "kernelspec": {
   "display_name": "Python 3 (ipykernel)",
   "language": "python",
   "name": "python3"
  },
  "language_info": {
   "codemirror_mode": {
    "name": "ipython",
    "version": 3
   },
   "file_extension": ".py",
   "mimetype": "text/x-python",
   "name": "python",
   "nbconvert_exporter": "python",
   "pygments_lexer": "ipython3",
   "version": "3.10.1"
  }
 },
 "nbformat": 4,
 "nbformat_minor": 5
}
