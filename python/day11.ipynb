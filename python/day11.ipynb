{
 "cells": [
  {
   "cell_type": "code",
   "execution_count": 124,
   "id": "fcc746bd",
   "metadata": {},
   "outputs": [],
   "source": [
    "import numpy as np\n",
    "import itertools\n",
    "\n",
    "def parse_grid(g):\n",
    "    return np.array([[int(n) for n in l] for l in g.splitlines()], dtype=int)\n",
    "\n",
    "deltas = (-1, 0, 1)\n",
    "\n",
    "def in_bounds(x, y, g):\n",
    "    return (0, 0) <= (x, y) < g.shape\n",
    "\n",
    "def neighbors(x, y, g):\n",
    "    ns = ((x+dx, y+dy) for dx in deltas for dy in deltas \n",
    "           if 0 <= x+dx < g.shape[0] and 0 <= y+dy < g.shape[1])\n",
    "    return tuple(zip(*ns))\n",
    "    \n",
    "def step(g):\n",
    "    flashed = np.zeros_like(g, dtype=bool)\n",
    "    # Increase energy levels by 1.\n",
    "    g += 1    \n",
    "    \n",
    "    while True:\n",
    "        # Flash octopodes with energy > 9.\n",
    "        fx, fy = ((g > 9) & (~flashed)).nonzero()\n",
    "        if len(fx) == 0: break\n",
    "        for x, y in zip(fx, fy):\n",
    "            g[neighbors(x, y, g)] += 1\n",
    "        flashed[fx, fy] = True\n",
    "\n",
    "    # Lower flashers' energy to 0.\n",
    "    g[flashed] = 0\n",
    "    return flashed.sum()\n",
    "\n",
    "def count_flashes(g, steps):\n",
    "    return sum(step(g) for _ in range(steps))\n",
    "\n",
    "def steps_to_sync(g):\n",
    "    for i in itertools.count():\n",
    "        if (g == 0).all():\n",
    "            return i\n",
    "        step(g)   "
   ]
  },
  {
   "cell_type": "code",
   "execution_count": 115,
   "id": "499c2c93",
   "metadata": {},
   "outputs": [
    {
     "data": {
      "text/plain": [
       "array([[1, 1, 1, 1, 1],\n",
       "       [1, 9, 9, 9, 1],\n",
       "       [1, 9, 1, 9, 1],\n",
       "       [1, 9, 9, 9, 1],\n",
       "       [1, 1, 1, 1, 1]])"
      ]
     },
     "execution_count": 115,
     "metadata": {},
     "output_type": "execute_result"
    }
   ],
   "source": [
    "g = parse_grid(\"\"\"11111\n",
    "19991\n",
    "19191\n",
    "19991\n",
    "11111\"\"\")\n",
    "g"
   ]
  },
  {
   "cell_type": "code",
   "execution_count": 116,
   "id": "3466f471",
   "metadata": {},
   "outputs": [
    {
     "data": {
      "text/plain": [
       "array([[3, 4, 5, 4, 3],\n",
       "       [4, 0, 0, 0, 4],\n",
       "       [5, 0, 0, 0, 5],\n",
       "       [4, 0, 0, 0, 4],\n",
       "       [3, 4, 5, 4, 3]])"
      ]
     },
     "execution_count": 116,
     "metadata": {},
     "output_type": "execute_result"
    }
   ],
   "source": [
    "step(g)\n",
    "g"
   ]
  },
  {
   "cell_type": "code",
   "execution_count": 117,
   "id": "f71aa450",
   "metadata": {},
   "outputs": [
    {
     "data": {
      "text/plain": [
       "204"
      ]
     },
     "execution_count": 117,
     "metadata": {},
     "output_type": "execute_result"
    }
   ],
   "source": [
    "g = parse_grid(\"\"\"5483143223\n",
    "2745854711\n",
    "5264556173\n",
    "6141336146\n",
    "6357385478\n",
    "4167524645\n",
    "2176841721\n",
    "6882881134\n",
    "4846848554\n",
    "5283751526\"\"\")\n",
    "count_flashes(g, 10)"
   ]
  },
  {
   "cell_type": "code",
   "execution_count": 125,
   "id": "d93171a3",
   "metadata": {},
   "outputs": [
    {
     "name": "stdout",
     "output_type": "stream",
     "text": [
      "[p1] Flashes after 100 steps: 1679\n",
      "[p2] Steps to sync: 519\n"
     ]
    }
   ],
   "source": [
    "with open('../data/day11.txt') as infile:\n",
    "    g_str = infile.read()\n",
    "    g = parse_grid(g_str)\n",
    "    print('[p1] Flashes after 100 steps:', count_flashes(g, 100))\n",
    "    g = parse_grid(g_str)\n",
    "    print('[p2] Steps to sync:', steps_to_sync(g))"
   ]
  },
  {
   "cell_type": "code",
   "execution_count": null,
   "id": "b7267409",
   "metadata": {},
   "outputs": [],
   "source": []
  }
 ],
 "metadata": {
  "kernelspec": {
   "display_name": "Python 3 (ipykernel)",
   "language": "python",
   "name": "python3"
  },
  "language_info": {
   "codemirror_mode": {
    "name": "ipython",
    "version": 3
   },
   "file_extension": ".py",
   "mimetype": "text/x-python",
   "name": "python",
   "nbconvert_exporter": "python",
   "pygments_lexer": "ipython3",
   "version": "3.8.10"
  }
 },
 "nbformat": 4,
 "nbformat_minor": 5
}
