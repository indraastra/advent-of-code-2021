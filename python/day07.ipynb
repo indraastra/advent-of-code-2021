{
 "cells": [
  {
   "cell_type": "code",
   "execution_count": 9,
   "id": "0e2b5205",
   "metadata": {},
   "outputs": [],
   "source": [
    "import numpy as np"
   ]
  },
  {
   "cell_type": "code",
   "execution_count": 20,
   "id": "430b2267",
   "metadata": {},
   "outputs": [],
   "source": [
    "def parse_xs(xs):\n",
    "    return np.array([int(x) for x in xs.split(',')], dtype=int)"
   ]
  },
  {
   "cell_type": "code",
   "execution_count": 37,
   "id": "5a6af395",
   "metadata": {},
   "outputs": [],
   "source": [
    "def fixed_cost(x, xs):\n",
    "    return np.abs(xs-x).sum()\n",
    "\n",
    "def linear_cost(x, xs):\n",
    "    d = np.abs(x-xs)\n",
    "    return (d * (d+1) // 2).sum()\n",
    "\n",
    "def min_shift(xs, cost_fn=fixed_cost):\n",
    "    return min(cost_fn(x, xs) for x in range(xs.min(), xs.max()+1))"
   ]
  },
  {
   "cell_type": "code",
   "execution_count": 38,
   "id": "9d2a3708",
   "metadata": {},
   "outputs": [
    {
     "data": {
      "text/plain": [
       "168"
      ]
     },
     "execution_count": 38,
     "metadata": {},
     "output_type": "execute_result"
    }
   ],
   "source": [
    "xs = parse_xs('16,1,2,0,4,2,7,1,2,14')\n",
    "min_shift(xs, linear_cost)"
   ]
  },
  {
   "cell_type": "code",
   "execution_count": 39,
   "id": "f8029956",
   "metadata": {},
   "outputs": [
    {
     "name": "stdout",
     "output_type": "stream",
     "text": [
      "[p1] Fixed cost to align: 331067\n",
      "[p2] Linear cost to align: 92881128\n"
     ]
    }
   ],
   "source": [
    "with open('../data/day07.txt') as infile:\n",
    "    xs = parse_xs(infile.read())\n",
    "    print('[p1] Fixed cost to align:', min_shift(xs, fixed_cost))\n",
    "    print('[p2] Linear cost to align:', min_shift(xs, linear_cost))"
   ]
  },
  {
   "cell_type": "code",
   "execution_count": null,
   "id": "ca9b68c6",
   "metadata": {},
   "outputs": [],
   "source": []
  }
 ],
 "metadata": {
  "kernelspec": {
   "display_name": "Python 3 (ipykernel)",
   "language": "python",
   "name": "python3"
  },
  "language_info": {
   "codemirror_mode": {
    "name": "ipython",
    "version": 3
   },
   "file_extension": ".py",
   "mimetype": "text/x-python",
   "name": "python",
   "nbconvert_exporter": "python",
   "pygments_lexer": "ipython3",
   "version": "3.8.10"
  }
 },
 "nbformat": 4,
 "nbformat_minor": 5
}
