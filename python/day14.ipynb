{
 "cells": [
  {
   "cell_type": "code",
   "execution_count": 15,
   "id": "54a45dfb",
   "metadata": {},
   "outputs": [],
   "source": [
    "import itertools\n",
    "from collections import Counter\n",
    "\n",
    "def parse_rules(s):\n",
    "    r = {}\n",
    "    template, rules = s.split('\\n\\n')\n",
    "    for rule in rules.splitlines():\n",
    "        lhs, rhs = rule.split(' -> ')\n",
    "        r[lhs] = rhs\n",
    "    return template, r\n",
    "\n",
    "def intersperse(iter1, iter2):\n",
    "    for (l, r) in itertools.zip_longest(iter1, iter2, fillvalue=''):\n",
    "        yield l\n",
    "        yield r\n",
    "        \n",
    "def pairwise(template):\n",
    "    for p in itertools.pairwise(template):\n",
    "        yield ''.join(p)\n",
    "\n",
    "def pair_counts(template):\n",
    "    return Counter(pairwise(template))\n",
    "\n",
    "def step_pair_counts(counts, r):\n",
    "    counts_next = Counter(counts)\n",
    "    for k, mid in r.items():\n",
    "        left, right = k\n",
    "        counts_next[left + mid] += counts[k]\n",
    "        counts_next[mid + right] += counts[k]\n",
    "        counts_next[k] -= counts[k]\n",
    "    return counts_next\n",
    "\n",
    "def step_n(template, r, n):\n",
    "    counts = pair_counts(template)\n",
    "    for i in range(n):\n",
    "        counts = step_pair_counts(counts, r)\n",
    "    l_counts = Counter()\n",
    "    for (l, _), c in counts.items():\n",
    "        l_counts[l] += c\n",
    "    l_counts[template[-1]] += 1\n",
    "    return l_counts"
   ]
  },
  {
   "cell_type": "code",
   "execution_count": 16,
   "id": "fb23b538",
   "metadata": {},
   "outputs": [],
   "source": [
    "template, r = parse_rules(\"\"\"NNCB\n",
    "\n",
    "CH -> B\n",
    "HH -> N\n",
    "CB -> H\n",
    "NH -> C\n",
    "HB -> C\n",
    "HC -> B\n",
    "HN -> C\n",
    "NN -> C\n",
    "BH -> H\n",
    "NC -> B\n",
    "NB -> B\n",
    "BN -> B\n",
    "BB -> N\n",
    "BC -> B\n",
    "CC -> N\n",
    "CN -> C\"\"\")"
   ]
  },
  {
   "cell_type": "code",
   "execution_count": 18,
   "id": "e6f9f084",
   "metadata": {},
   "outputs": [
    {
     "data": {
      "text/plain": [
       "Counter({'N': 865, 'C': 298, 'B': 1749, 'H': 161})"
      ]
     },
     "execution_count": 18,
     "metadata": {},
     "output_type": "execute_result"
    }
   ],
   "source": [
    "step_n(template, r, 10)"
   ]
  },
  {
   "cell_type": "code",
   "execution_count": 19,
   "id": "434b450c",
   "metadata": {},
   "outputs": [
    {
     "name": "stdout",
     "output_type": "stream",
     "text": [
      "[p1] Difference in counts: 2587\n",
      "[p2] Difference in counts: 3318837563123\n"
     ]
    }
   ],
   "source": [
    "with open('../data/day14.txt') as infile:\n",
    "    template, r = parse_rules(infile.read())\n",
    "    counts = step_n(template, r, 10).most_common()\n",
    "    print('[p1] Difference in counts:', counts[0][-1] - counts[-1][-1])\n",
    "    counts = step_n(template, r, 40).most_common()\n",
    "    print('[p2] Difference in counts:', counts[0][-1] - counts[-1][-1])"
   ]
  },
  {
   "cell_type": "code",
   "execution_count": null,
   "id": "91ed403d",
   "metadata": {},
   "outputs": [],
   "source": []
  }
 ],
 "metadata": {
  "kernelspec": {
   "display_name": "Python 3 (ipykernel)",
   "language": "python",
   "name": "python3"
  },
  "language_info": {
   "codemirror_mode": {
    "name": "ipython",
    "version": 3
   },
   "file_extension": ".py",
   "mimetype": "text/x-python",
   "name": "python",
   "nbconvert_exporter": "python",
   "pygments_lexer": "ipython3",
   "version": "3.10.1"
  }
 },
 "nbformat": 4,
 "nbformat_minor": 5
}
