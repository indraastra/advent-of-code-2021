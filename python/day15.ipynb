{
 "cells": [
  {
   "cell_type": "code",
   "execution_count": 306,
   "id": "cb0a2bad",
   "metadata": {},
   "outputs": [],
   "source": [
    "import numpy as np\n",
    "import heapq\n",
    "\n",
    "def parse_map(m):\n",
    "    return np.array([[int(n) for n in l.strip()] for l in m.splitlines()], dtype=int)"
   ]
  },
  {
   "cell_type": "code",
   "execution_count": 445,
   "id": "7602b9f5",
   "metadata": {},
   "outputs": [],
   "source": [
    "def min_or(a, b, default=0):\n",
    "    if a is None and b is None:\n",
    "        return default\n",
    "    elif a is None:\n",
    "        return b\n",
    "    elif b is None:\n",
    "        return a\n",
    "    else:\n",
    "        return min(a, b)\n",
    "    \n",
    "def neighbors(v, m):\n",
    "    i, j = v\n",
    "    for di, dj in ((1, 0), (0, 1), (-1, 0), (0, -1)):\n",
    "        if 0 <= i+di < m.shape[0] and 0 <= j+dj < m.shape[1]:\n",
    "            yield (i+di, j+dj)\n",
    "\n",
    "def min_path_cost(m):\n",
    "#     # R-D motion only: (stupid first attempt)\n",
    "#     m = m.copy()\n",
    "#     for r in range(m.shape[0]):\n",
    "#         for c in range(m.shape[1]):\n",
    "#             cost_l = m[r, c-1] if c > 0 else None\n",
    "#             cost_t = m[r-1, c] if r > 0 else None\n",
    "#             m[r, c] += min_or(cost_l, cost_t)\n",
    "#     return m[-1, -1] - m[0, 0]\n",
    "    # Motion in any direction:\n",
    "    q = []\n",
    "    dist = {}\n",
    "    source = (0, 0)\n",
    "    target = (m.shape[0]-1, m.shape[1]-1)\n",
    "    heapq.heappush(q, (0, source))\n",
    "    while q:\n",
    "        du, u = heapq.heappop(q)\n",
    "        if u == target:\n",
    "            return du\n",
    "        for v in neighbors(u, m):\n",
    "            alt = du + m[v]\n",
    "            if v not in dist or alt < dist[v]:\n",
    "                dist[v] = alt\n",
    "                heapq.heappush(q, (alt, v))\n",
    "    \n",
    "def repmap(m, r, c):\n",
    "    h, w = m.shape\n",
    "    m = np.tile(m, (r, c))\n",
    "    for i in range(r):\n",
    "        for j in range(c):\n",
    "            m[h*i:h*(i+1), w*j:w*(j+1)] += i + j\n",
    "    mask = m > 9\n",
    "    m[mask] = m[mask] % 9\n",
    "    return m\n",
    "\n",
    "def debug_route(m):\n",
    "    d = np.full(m.shape, '.')\n",
    "    r, c = m.shape\n",
    "    i, j = r-1, c-1\n",
    "    while i >= 0 and j >= 0:\n",
    "        d[i, j] = '#'\n",
    "        if i == 0 or (j != 0 and m[i, j-1] < m[i-1, j]):\n",
    "            j -= 1\n",
    "        else:\n",
    "            i -= 1\n",
    "    return '\\n'.join(''.join(l) for l in d)"
   ]
  },
  {
   "cell_type": "code",
   "execution_count": 446,
   "id": "1222d2f7",
   "metadata": {},
   "outputs": [
    {
     "data": {
      "text/plain": [
       "array([[1, 1, 6, 3, 7, 5, 1, 7, 4, 2],\n",
       "       [1, 3, 8, 1, 3, 7, 3, 6, 7, 2],\n",
       "       [2, 1, 3, 6, 5, 1, 1, 3, 2, 8],\n",
       "       [3, 6, 9, 4, 9, 3, 1, 5, 6, 9],\n",
       "       [7, 4, 6, 3, 4, 1, 7, 1, 1, 1],\n",
       "       [1, 3, 1, 9, 1, 2, 8, 1, 3, 7],\n",
       "       [1, 3, 5, 9, 9, 1, 2, 4, 2, 1],\n",
       "       [3, 1, 2, 5, 4, 2, 1, 6, 3, 9],\n",
       "       [1, 2, 9, 3, 1, 3, 8, 5, 2, 1],\n",
       "       [2, 3, 1, 1, 9, 4, 4, 5, 8, 1]])"
      ]
     },
     "execution_count": 446,
     "metadata": {},
     "output_type": "execute_result"
    }
   ],
   "source": [
    "m = parse_map(\"\"\"1163751742\n",
    "1381373672\n",
    "2136511328\n",
    "3694931569\n",
    "7463417111\n",
    "1319128137\n",
    "1359912421\n",
    "3125421639\n",
    "1293138521\n",
    "2311944581\"\"\")\n",
    "m"
   ]
  },
  {
   "cell_type": "code",
   "execution_count": 447,
   "id": "f5512350",
   "metadata": {},
   "outputs": [
    {
     "data": {
      "text/plain": [
       "40"
      ]
     },
     "execution_count": 447,
     "metadata": {},
     "output_type": "execute_result"
    }
   ],
   "source": [
    "min_path_cost(m)"
   ]
  },
  {
   "cell_type": "code",
   "execution_count": 448,
   "id": "ea38d1b4",
   "metadata": {},
   "outputs": [
    {
     "data": {
      "text/plain": [
       "315"
      ]
     },
     "execution_count": 448,
     "metadata": {},
     "output_type": "execute_result"
    }
   ],
   "source": [
    "min_path_cost(repmap(m, 5, 5))"
   ]
  },
  {
   "cell_type": "code",
   "execution_count": 449,
   "id": "b8944080",
   "metadata": {},
   "outputs": [
    {
     "name": "stdout",
     "output_type": "stream",
     "text": [
      "[p0] Min path cost in 1x1: 447\n",
      "[p1] Min path cost in 5x5: 2825\n",
      "CPU times: user 1.26 s, sys: 15.6 ms, total: 1.27 s\n",
      "Wall time: 1.27 s\n"
     ]
    }
   ],
   "source": [
    "%%time\n",
    "with open('../data/day15.txt') as infile:\n",
    "    m = parse_map(infile.read())\n",
    "    print('[p0] Min path cost in 1x1:', min_path_cost(m))\n",
    "    print('[p1] Min path cost in 5x5:', min_path_cost(repmap(m, 5, 5)))"
   ]
  },
  {
   "cell_type": "code",
   "execution_count": null,
   "id": "2f72e3af",
   "metadata": {},
   "outputs": [],
   "source": []
  }
 ],
 "metadata": {
  "kernelspec": {
   "display_name": "Python 3 (ipykernel)",
   "language": "python",
   "name": "python3"
  },
  "language_info": {
   "codemirror_mode": {
    "name": "ipython",
    "version": 3
   },
   "file_extension": ".py",
   "mimetype": "text/x-python",
   "name": "python",
   "nbconvert_exporter": "python",
   "pygments_lexer": "ipython3",
   "version": "3.10.1"
  }
 },
 "nbformat": 4,
 "nbformat_minor": 5
}
