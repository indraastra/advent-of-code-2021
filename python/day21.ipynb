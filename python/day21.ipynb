{
 "cells": [
  {
   "cell_type": "code",
   "execution_count": 97,
   "id": "6eeb91cd",
   "metadata": {},
   "outputs": [],
   "source": [
    "from itertools import cycle, islice, repeat, product\n",
    "from collections import Counter, defaultdict\n",
    "from dataclasses import dataclass\n",
    "from typing import Tuple"
   ]
  },
  {
   "cell_type": "code",
   "execution_count": 108,
   "id": "c6f98372",
   "metadata": {},
   "outputs": [],
   "source": [
    "def wrap(n, lo=1, hi=10):\n",
    "    return ((n - lo) % hi) + lo\n",
    "\n",
    "@dataclass(frozen=True)\n",
    "class Game:\n",
    "    positions: Tuple[int] = (0, 0)\n",
    "    scores: Tuple[int] = (0, 0)\n",
    "    player: int = 0\n",
    "        \n",
    "    @staticmethod\n",
    "    def starting_from(positions):\n",
    "        return Game(positions)\n",
    "        \n",
    "    def move(self, steps):\n",
    "        positions = list(self.positions)\n",
    "        scores = list(self.scores)\n",
    "        player = self.player\n",
    "        positions[player] = wrap(positions[player] + steps)\n",
    "        scores[player] += positions[player]\n",
    "        return Game(tuple(positions), tuple(scores), self.next_player())\n",
    "    \n",
    "    def has_winner(self, score):\n",
    "        return any(s >= score for s in self.scores)\n",
    "    \n",
    "    def next_player(self):\n",
    "        return (self.player + 1) & 1\n",
    "\n",
    "def deterministic_die(sides, rolls=3):\n",
    "    die = cycle(range(1, sides+1))\n",
    "    while True:\n",
    "        yield sum(islice(die, rolls))\n",
    "        \n",
    "def play(die, positions=(1, 1), target=1000):\n",
    "    rolls = 0\n",
    "    game = Game.starting_from(positions)\n",
    "    while not game.has_winner(target):\n",
    "        game = game.move(next(die))\n",
    "        rolls += 3\n",
    "    return game.scores[game.player] * rolls\n",
    "\n",
    "\n",
    "def dirac_die_rolls(sides, rolls=3):\n",
    "    return Counter(sum(xs) for xs in\n",
    "                   product(*(range(1, sides+1) for _ in range(rolls))))\n",
    "\n",
    "def play_dirac(positions=(1, 1), target=21):\n",
    "    dirac_rolls = dirac_die_rolls(3, 3)\n",
    "    games = Counter([Game.starting_from(positions)])\n",
    "    wins = [0, 0]\n",
    "    while games:\n",
    "        next_games = Counter()\n",
    "        for steps, step_count in dirac_rolls.items():\n",
    "            for game, game_count in games.items():\n",
    "                game = game.move(steps)\n",
    "                count = step_count * game_count\n",
    "                if game.has_winner(target):\n",
    "                    wins[game.next_player()] += count\n",
    "                else:\n",
    "                    next_games[game] += count\n",
    "        games = next_games\n",
    "    return wins"
   ]
  },
  {
   "cell_type": "code",
   "execution_count": 113,
   "id": "a19997f0",
   "metadata": {},
   "outputs": [
    {
     "name": "stdout",
     "output_type": "stream",
     "text": [
      "[p1] Test match result: 571032\n",
      "[p2] Dirac match result: 49975322685009\n"
     ]
    }
   ],
   "source": [
    "die = deterministic_die(100)\n",
    "puzzle_start = (2, 10)\n",
    "print('[p1] Test match result:', play(die, puzzle_start))\n",
    "print('[p2] Dirac match result:', max(play_dirac(puzzle_start)))"
   ]
  }
 ],
 "metadata": {
  "kernelspec": {
   "display_name": "Python 3 (ipykernel)",
   "language": "python",
   "name": "python3"
  },
  "language_info": {
   "codemirror_mode": {
    "name": "ipython",
    "version": 3
   },
   "file_extension": ".py",
   "mimetype": "text/x-python",
   "name": "python",
   "nbconvert_exporter": "python",
   "pygments_lexer": "ipython3",
   "version": "3.10.1"
  }
 },
 "nbformat": 4,
 "nbformat_minor": 5
}
