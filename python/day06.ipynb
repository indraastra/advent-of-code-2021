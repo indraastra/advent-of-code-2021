{
 "cells": [
  {
   "cell_type": "code",
   "execution_count": 15,
   "id": "639eeda7",
   "metadata": {},
   "outputs": [],
   "source": [
    "DAYS_UNTIL_RESET = 7\n",
    "\n",
    "def parse_fish(s):\n",
    "    fish_by_days = [0] * (DAYS_UNTIL_RESET+2)\n",
    "    for days in map(int, s.split(',')):\n",
    "        fish_by_days[days] += 1\n",
    "    return fish_by_days\n",
    "\n",
    "def simulate(fish, days):\n",
    "    while days > 0:\n",
    "        zeros = fish[0]\n",
    "        fish = fish[1:] + [zeros]\n",
    "        fish[DAYS_UNTIL_RESET-1] += zeros\n",
    "        days -= 1\n",
    "    return fish"
   ]
  },
  {
   "cell_type": "code",
   "execution_count": 20,
   "id": "946b9fbb",
   "metadata": {},
   "outputs": [
    {
     "data": {
      "text/plain": [
       "26984457539"
      ]
     },
     "execution_count": 20,
     "metadata": {},
     "output_type": "execute_result"
    }
   ],
   "source": [
    "sum(simulate(parse_fish('3,4,3,1,2'), 256))"
   ]
  },
  {
   "cell_type": "code",
   "execution_count": 22,
   "id": "2de4edcc",
   "metadata": {},
   "outputs": [
    {
     "name": "stdout",
     "output_type": "stream",
     "text": [
      "[p1] Num fish after 80 days: 363101\n",
      "[p2] Num fish after 80 days: 1644286074024\n"
     ]
    }
   ],
   "source": [
    "with open('../data/day06.txt') as infile:\n",
    "    fish = parse_fish(infile.read())\n",
    "    print('[p1] Num fish after 80 days:', sum(simulate(fish, 80)))\n",
    "    print('[p2] Num fish after 256 days:', sum(simulate(fish, 256)))"
   ]
  }
 ],
 "metadata": {
  "kernelspec": {
   "display_name": "Python 3 (ipykernel)",
   "language": "python",
   "name": "python3"
  },
  "language_info": {
   "codemirror_mode": {
    "name": "ipython",
    "version": 3
   },
   "file_extension": ".py",
   "mimetype": "text/x-python",
   "name": "python",
   "nbconvert_exporter": "python",
   "pygments_lexer": "ipython3",
   "version": "3.8.10"
  }
 },
 "nbformat": 4,
 "nbformat_minor": 5
}
