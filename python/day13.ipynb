{
 "cells": [
  {
   "cell_type": "code",
   "execution_count": 200,
   "id": "d066cbc6",
   "metadata": {},
   "outputs": [],
   "source": [
    "from functools import reduce\n",
    "\n",
    "idx_of = {'x': 0, 'y': 1}\n",
    "\n",
    "def parse_paper(s):\n",
    "    dots, folds = set(), []\n",
    "    ds, fs = s.split('\\n\\n')\n",
    "    for l in ds.splitlines():\n",
    "        x, y = (int(c) for c in l.split(','))\n",
    "        dots.add((x, y))\n",
    "    for l in fs.splitlines():\n",
    "        left, right = l.split('=')\n",
    "        folds.append((left[-1], int(right)))\n",
    "    return dots, folds\n",
    "\n",
    "def mirror(d, fold):\n",
    "    dim, line = fold\n",
    "    idx = idx_of[dim]\n",
    "    x, y = (line - (c - line) \n",
    "            if (i == idx and c > line) else c \n",
    "            for i, c in enumerate(d)) \n",
    "    return (x, y)\n",
    "\n",
    "def fold_along(dots, fold):\n",
    "    return {mirror(d, fold) for d in dots}\n",
    "\n",
    "def final_bounds(folds):\n",
    "    xmax = min((f for f in folds if f[0] == 'x'), key=lambda f: f[1])[1]\n",
    "    ymax = min((f for f in folds if f[0] == 'y'), key=lambda f: f[1])[1]\n",
    "    return (xmax, ymax)\n",
    "\n",
    "def display_dots(dots, bounds):\n",
    "    xmax, ymax = bounds\n",
    "    message = [['.']*xmax for _ in range(ymax)]\n",
    "    for x, y in dots:\n",
    "        message[y][x] = '#'\n",
    "    print('\\n'.join(''.join(l) for l in message))"
   ]
  },
  {
   "cell_type": "code",
   "execution_count": 202,
   "id": "0e2a31cd",
   "metadata": {},
   "outputs": [],
   "source": [
    "dots, folds = parse_paper(\"\"\"6,10\n",
    "0,14\n",
    "9,10\n",
    "0,3\n",
    "10,4\n",
    "4,11\n",
    "6,0\n",
    "6,12\n",
    "4,1\n",
    "0,13\n",
    "10,12\n",
    "3,4\n",
    "3,0\n",
    "8,4\n",
    "1,10\n",
    "2,14\n",
    "8,10\n",
    "9,0\n",
    "\n",
    "fold along y=7\n",
    "fold along x=5\"\"\")"
   ]
  },
  {
   "cell_type": "code",
   "execution_count": 203,
   "id": "85bf23d3",
   "metadata": {},
   "outputs": [
    {
     "name": "stdout",
     "output_type": "stream",
     "text": [
      "...#..#..#.\n",
      "....#......\n",
      "...........\n",
      "#..........\n",
      "...#....#.#\n",
      "...........\n",
      "...........\n",
      "...........\n",
      "...........\n",
      "...........\n",
      ".#....#.##.\n",
      "....#......\n",
      "......#...#\n",
      "#..........\n",
      "#.#........\n"
     ]
    }
   ],
   "source": [
    "display_dots(dots, (11, 15))"
   ]
  },
  {
   "cell_type": "code",
   "execution_count": 205,
   "id": "ac052bea",
   "metadata": {},
   "outputs": [
    {
     "name": "stdout",
     "output_type": "stream",
     "text": [
      "#.##..#..#.\n",
      "#...#......\n",
      "......#...#\n",
      "#...#......\n",
      ".#.#..#.###\n",
      "...........\n",
      "...........\n"
     ]
    }
   ],
   "source": [
    "dots = fold_along(dots, folds[0])\n",
    "display_dots(dots, (11, 7))"
   ]
  },
  {
   "cell_type": "code",
   "execution_count": 207,
   "id": "3436283f",
   "metadata": {},
   "outputs": [
    {
     "name": "stdout",
     "output_type": "stream",
     "text": [
      "#####\n",
      "#...#\n",
      "#...#\n",
      "#...#\n",
      "#####\n",
      ".....\n",
      ".....\n"
     ]
    }
   ],
   "source": [
    "dots = fold_along(dots, folds[1])\n",
    "display_dots(dots, (5, 7))"
   ]
  },
  {
   "cell_type": "code",
   "execution_count": 211,
   "id": "e244a3f4",
   "metadata": {},
   "outputs": [
    {
     "name": "stdout",
     "output_type": "stream",
     "text": [
      "[p0] Visible after first fold: 661\n",
      "[p0] Visible after all folds: 89\n",
      "###..####.#..#.#....#..#..##..####.###..\n",
      "#..#.#....#.#..#....#.#..#..#.#....#..#.\n",
      "#..#.###..##...#....##...#....###..#..#.\n",
      "###..#....#.#..#....#.#..#....#....###..\n",
      "#....#....#.#..#....#.#..#..#.#....#....\n",
      "#....#....#..#.####.#..#..##..#....#....\n"
     ]
    }
   ],
   "source": [
    "with open('../data/day13.txt') as infile:\n",
    "    dots, folds = parse_paper(infile.read())\n",
    "    print('[p0] Visible after first fold:', len(fold_along(dots, folds[0])))\n",
    "    dots = reduce(lambda dots, f: fold_along(dots, f), folds, dots)\n",
    "    print('[p0] Visible after all folds:', len(dots))\n",
    "    display_dots(dots, final_bounds(folds))"
   ]
  },
  {
   "cell_type": "code",
   "execution_count": null,
   "id": "b2624e94",
   "metadata": {},
   "outputs": [],
   "source": []
  }
 ],
 "metadata": {
  "kernelspec": {
   "display_name": "Python 3 (ipykernel)",
   "language": "python",
   "name": "python3"
  },
  "language_info": {
   "codemirror_mode": {
    "name": "ipython",
    "version": 3
   },
   "file_extension": ".py",
   "mimetype": "text/x-python",
   "name": "python",
   "nbconvert_exporter": "python",
   "pygments_lexer": "ipython3",
   "version": "3.8.10"
  }
 },
 "nbformat": 4,
 "nbformat_minor": 5
}
