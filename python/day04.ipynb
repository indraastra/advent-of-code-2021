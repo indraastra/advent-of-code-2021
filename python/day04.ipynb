{
 "cells": [
  {
   "cell_type": "code",
   "execution_count": 3,
   "id": "ae753ed6",
   "metadata": {},
   "outputs": [],
   "source": [
    "BINGO = \"\"\"7,4,9,5,11,17,23,2,0,14,21,24,10,16,13,6,15,25,12,22,18,20,8,19,3,26,1\n",
    "\n",
    "22 13 17 11  0\n",
    " 8  2 23  4 24\n",
    "21  9 14 16  7\n",
    " 6 10  3 18  5\n",
    " 1 12 20 15 19\n",
    "\n",
    " 3 15  0  2 22\n",
    " 9 18 13 17  5\n",
    "19  8  7 25 23\n",
    "20 11 10 24  4\n",
    "14 21 16 12  6\n",
    "\n",
    "14 21 17 24  4\n",
    "10 16 15  9 19\n",
    "18  8 23 26 20\n",
    "22 11 13  6  5\n",
    " 2  0 12  3  7\"\"\""
   ]
  },
  {
   "cell_type": "code",
   "execution_count": 177,
   "id": "a587ef5a",
   "metadata": {},
   "outputs": [],
   "source": [
    "import dataclasses\n",
    "from typing import List, Optional\n",
    "import numpy as np\n",
    "\n",
    "GRID_SIZE = (5, 5)\n",
    "\n",
    "@dataclasses.dataclass\n",
    "class BingoGrid:    \n",
    "    grid: np.array\n",
    "    marked: np.array\n",
    "        \n",
    "    def mark(self, n):\n",
    "        self.marked[self.grid == n] = True\n",
    "    \n",
    "    def mark_and_check(self, n) -> Optional[int]:\n",
    "        self.mark(n)\n",
    "        return self.score(n) if self.wins() else None\n",
    "    \n",
    "    def score(self, n) -> int:\n",
    "        return n * self.grid[~self.marked].sum()\n",
    "        \n",
    "    def wins(self) -> bool:\n",
    "        return self.marked.all(axis=0).any() or self.marked.all(axis=1).any()\n",
    "        \n",
    "    @staticmethod\n",
    "    def from_str(grid_str) -> 'BingoGrid':\n",
    "        grid = np.array([int(i) for i in  grid_str.replace('\\n', ' ').strip().split()], \n",
    "                        dtype=int).reshape(GRID_SIZE)\n",
    "        marked = np.zeros(GRID_SIZE, dtype=bool)\n",
    "        return BingoGrid(grid, marked)\n",
    "\n",
    "@dataclasses.dataclass\n",
    "class Bingo:\n",
    "    numbers: List[int]\n",
    "    boards: List[BingoGrid]"
   ]
  },
  {
   "cell_type": "code",
   "execution_count": 178,
   "id": "663ffb7e",
   "metadata": {},
   "outputs": [],
   "source": [
    "def parse_bingo(bingo: str):\n",
    "    numbers, grids = bingo.split('\\n\\n', 1)\n",
    "    numbers = [int(i) for i in numbers.split(',')]\n",
    "    grids = [BingoGrid.from_str(grid) for grid in grids.split('\\n\\n')]\n",
    "    return numbers, grids"
   ]
  },
  {
   "cell_type": "code",
   "execution_count": 185,
   "id": "b7347ced",
   "metadata": {},
   "outputs": [],
   "source": [
    "def first_winning_score(bingo: str):\n",
    "    numbers, grids = parse_bingo(bingo)\n",
    "    for n in numbers:\n",
    "        for g in grids:\n",
    "            if score := g.mark_and_check(n):\n",
    "                return score\n",
    "            \n",
    "def last_winning_score(bingo: str):\n",
    "    numbers, grids = parse_bingo(bingo)\n",
    "    for n in numbers:\n",
    "        ws, ls = [], []\n",
    "        for g in grids:\n",
    "            (ws if g.mark_and_check(n) else ls).append(g)\n",
    "        # Return the last winner if there are no losers left.\n",
    "        if not ls:\n",
    "            return ws[-1].score(n)\n",
    "        grids = ls"
   ]
  },
  {
   "cell_type": "code",
   "execution_count": 186,
   "id": "95edd936",
   "metadata": {},
   "outputs": [
    {
     "name": "stdout",
     "output_type": "stream",
     "text": [
      "4512\n",
      "1924\n"
     ]
    }
   ],
   "source": [
    "print(first_winning_score(BINGO))\n",
    "print(last_winning_score(BINGO))"
   ]
  },
  {
   "cell_type": "code",
   "execution_count": 187,
   "id": "aea0d66f",
   "metadata": {},
   "outputs": [
    {
     "name": "stdout",
     "output_type": "stream",
     "text": [
      "[p1] first winning score: 49860\n",
      "[p2] last winning score: 16356\n"
     ]
    }
   ],
   "source": [
    "with open('../data/day04.txt') as infile:\n",
    "    bingo_str = infile.read()\n",
    "    print('[p1] first winning score:', first_winning_score(bingo_str))\n",
    "    print('[p2] last winning score:', last_winning_score(bingo_str))"
   ]
  },
  {
   "cell_type": "code",
   "execution_count": null,
   "id": "d22cf076",
   "metadata": {},
   "outputs": [],
   "source": []
  }
 ],
 "metadata": {
  "kernelspec": {
   "display_name": "Python 3 (ipykernel)",
   "language": "python",
   "name": "python3"
  },
  "language_info": {
   "codemirror_mode": {
    "name": "ipython",
    "version": 3
   },
   "file_extension": ".py",
   "mimetype": "text/x-python",
   "name": "python",
   "nbconvert_exporter": "python",
   "pygments_lexer": "ipython3",
   "version": "3.8.10"
  }
 },
 "nbformat": 4,
 "nbformat_minor": 5
}
