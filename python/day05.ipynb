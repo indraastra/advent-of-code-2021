{
 "cells": [
  {
   "cell_type": "code",
   "execution_count": 192,
   "id": "61d1a5ca",
   "metadata": {},
   "outputs": [],
   "source": [
    "from collections import namedtuple\n",
    "import numpy as np"
   ]
  },
  {
   "cell_type": "code",
   "execution_count": 3,
   "id": "644bb36b",
   "metadata": {},
   "outputs": [],
   "source": [
    "def parse_point(s):\n",
    "    return [int(n) for n in s.strip().split(',')]\n",
    "\n",
    "def parse_vents(buf):\n",
    "    # Dimensions: vents x 2 (start, end) x 2 (x, y)\n",
    "    vents = []\n",
    "    for l in buf:\n",
    "        if not l.strip(): continue\n",
    "        vents.append([parse_point(p) for p in l.split('->')])\n",
    "    return np.array(vents, dtype=int)\n",
    "\n",
    "def coord_range(x, y):\n",
    "    \"\"\"Inclusive range that work even if y < x\"\"\"\n",
    "    return range(x, y-1, -1) if x > y else range(x, y+1)        \n",
    "\n",
    "def map_vents(vents, allow_diagonal=False):\n",
    "    xmax = vents[..., 0].max() + 1\n",
    "    ymax = vents[..., 1].max() + 1\n",
    "    grid = np.zeros((xmax, ymax), dtype=int)\n",
    "    for (x1, y1), (x2, y2) in vents:\n",
    "        if not ((x1 == x2 or y1 == y2) or\n",
    "                (allow_diagonal and abs(x1 - x2) == abs(y1 - y2))):\n",
    "            continue\n",
    "        grid[coord_range(y1, y2), coord_range(x1, x2)] += 1\n",
    "    return grid\n",
    "\n",
    "def num_overlapping(grid):\n",
    "    return (grid > 1).sum()"
   ]
  },
  {
   "cell_type": "code",
   "execution_count": 6,
   "id": "fb59a8b7",
   "metadata": {},
   "outputs": [],
   "source": [
    "from io import StringIO\n",
    "\n",
    "test_input = StringIO(\"\"\"\n",
    "0,9 -> 5,9\n",
    "8,0 -> 0,8\n",
    "9,4 -> 3,4\n",
    "2,2 -> 2,1\n",
    "7,0 -> 7,4\n",
    "6,4 -> 2,0\n",
    "0,9 -> 2,9\n",
    "3,4 -> 1,4\n",
    "0,0 -> 8,8\n",
    "5,5 -> 8,2\n",
    "\"\"\")"
   ]
  },
  {
   "cell_type": "code",
   "execution_count": 5,
   "id": "48be5198",
   "metadata": {},
   "outputs": [
    {
     "data": {
      "text/plain": [
       "5"
      ]
     },
     "execution_count": 5,
     "metadata": {},
     "output_type": "execute_result"
    }
   ],
   "source": [
    "num_overlapping(map_vents(parse_vents(test_input), allow_diagonal=False))"
   ]
  },
  {
   "cell_type": "code",
   "execution_count": 7,
   "id": "fc46f68f",
   "metadata": {},
   "outputs": [
    {
     "data": {
      "text/plain": [
       "12"
      ]
     },
     "execution_count": 7,
     "metadata": {},
     "output_type": "execute_result"
    }
   ],
   "source": [
    "num_overlapping(map_vents(parse_vents(test_input), allow_diagonal=True))"
   ]
  },
  {
   "cell_type": "code",
   "execution_count": 8,
   "id": "c04b139a",
   "metadata": {},
   "outputs": [
    {
     "name": "stdout",
     "output_type": "stream",
     "text": [
      "[p1] Num overlaps: 4421\n",
      "[p1] Num overlaps: 18674\n"
     ]
    }
   ],
   "source": [
    "with open('../data/day05.txt') as infile:\n",
    "    vents = parse_vents(infile)\n",
    "    print('[p1] Num overlaps:', num_overlapping(map_vents(vents, allow_diagonal=False)))\n",
    "    print('[p1] Num overlaps:', num_overlapping(map_vents(vents, allow_diagonal=True)))"
   ]
  },
  {
   "cell_type": "code",
   "execution_count": null,
   "id": "bd21551a",
   "metadata": {},
   "outputs": [],
   "source": []
  }
 ],
 "metadata": {
  "kernelspec": {
   "display_name": "Python 3 (ipykernel)",
   "language": "python",
   "name": "python3"
  },
  "language_info": {
   "codemirror_mode": {
    "name": "ipython",
    "version": 3
   },
   "file_extension": ".py",
   "mimetype": "text/x-python",
   "name": "python",
   "nbconvert_exporter": "python",
   "pygments_lexer": "ipython3",
   "version": "3.8.10"
  }
 },
 "nbformat": 4,
 "nbformat_minor": 5
}
