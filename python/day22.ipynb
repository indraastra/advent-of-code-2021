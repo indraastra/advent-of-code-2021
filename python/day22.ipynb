{
 "cells": [
  {
   "cell_type": "code",
   "execution_count": 158,
   "id": "9a07bbb3",
   "metadata": {},
   "outputs": [],
   "source": [
    "from dataclasses import dataclass\n",
    "from typing import Tuple\n",
    "from functools import reduce\n",
    "from itertools import chain"
   ]
  },
  {
   "cell_type": "code",
   "execution_count": 243,
   "id": "704c6135",
   "metadata": {},
   "outputs": [],
   "source": [
    "def clip(b_from, b_to):\n",
    "    xmin1, xmax1 = b_from\n",
    "    xmin2, xmax2 = b_to\n",
    "    return (max(xmin1, xmin2), min(xmax1, xmax2))\n",
    "\n",
    "def span(b):\n",
    "    width = b[1] - b[0]\n",
    "    return width + 1 if width >= 0 else 0\n",
    "\n",
    "def contains(b, x):\n",
    "    return b[0] <= x <= b[1]\n",
    "\n",
    "def overlaps(b1, b2):\n",
    "    return contains(b2, b1[0]) or contains(b1, b2[1])\n",
    "\n",
    "@dataclass(frozen=True)\n",
    "class Cuboid:\n",
    "    x: Tuple[int, int]\n",
    "    y: Tuple[int, int]\n",
    "    z: Tuple[int, int]\n",
    "        \n",
    "    def volume(self):\n",
    "        return span(self.x) * span(self.y) * span(self.z)\n",
    "    \n",
    "    def volume_within(self, other):\n",
    "        return self.intersection(other).volume()\n",
    "    \n",
    "    def intersection(self, other):\n",
    "        return Cuboid(clip(self.x, other.x), clip(self.y, other.y), clip(self.z, other.z))\n",
    "    \n",
    "    def overlaps(self, other):\n",
    "        return self.intersection(other).volume() > 0\n",
    "    \n",
    "    def subtract(self, other):\n",
    "        if not self.overlaps(other):\n",
    "            return [self]\n",
    "        xmid = clip(other.x, self.x)\n",
    "        ymid = clip(other.y, self.y)\n",
    "        pieces = [\n",
    "            Cuboid((self.x[0], other.x[0]-1), self.y, self.z),\n",
    "            Cuboid((other.x[1]+1, self.x[1]), self.y, self.z),\n",
    "            Cuboid(xmid, (self.y[0], other.y[0]-1), self.z),\n",
    "            Cuboid(xmid, (other.y[1]+1, self.y[1]), self.z),\n",
    "            Cuboid(xmid, ymid, (self.z[0], other.z[0]-1)),\n",
    "            Cuboid(xmid, ymid, (other.z[1]+1, self.z[1])),\n",
    "        ]\n",
    "        return [p for p in pieces if p.volume() > 0]\n",
    "\n",
    "    @staticmethod\n",
    "    def from_instructions(l):\n",
    "        limits = [tuple(int(v) for v in rhs.split('..')) for kv in l.split(',') \n",
    "                  for rhs in kv.split('=') if '..' in rhs]\n",
    "        onoff = l.split(' ', 1)[0]\n",
    "        return Cuboid(*limits), onoff\n",
    "\n",
    "class CuboidSet:\n",
    "    def __init__(self, cs=None):\n",
    "        self.cs = cs or []\n",
    "        \n",
    "    def subtract(self, d):\n",
    "        self.cs = [c for c in chain(*(c.subtract(d) for c in self.cs))]\n",
    "    \n",
    "    def add(self, d):\n",
    "        adds = CuboidSet([d])\n",
    "        for c in self.cs:\n",
    "            adds.subtract(c)\n",
    "        self.cs.extend(adds.cs) \n",
    "    \n",
    "    @staticmethod\n",
    "    def from_instructions(s):\n",
    "        cs = [Cuboid.from_instructions(l) for l in s.splitlines()]\n",
    "        s = CuboidSet()\n",
    "        for c, onoff in cs:\n",
    "            if onoff == 'off':\n",
    "                s.subtract(c)\n",
    "            else:\n",
    "                s.add(c)\n",
    "        return s\n",
    "\n",
    "def parse_cuboids(s):\n",
    "    cuboids = []\n",
    "    onoffs = []\n",
    "    for l in s.splitlines():\n",
    "        c, onoff = Cuboid.from_instructions(l)\n",
    "        cuboids.append(c)\n",
    "        onoffs.append(onoff)\n",
    "    return cuboids, onoffs"
   ]
  },
  {
   "cell_type": "code",
   "execution_count": 244,
   "id": "1466e57e",
   "metadata": {},
   "outputs": [],
   "source": [
    "cs, onoffs = parse_cuboids(\"\"\"on x=-20..26,y=-36..17,z=-47..7\n",
    "on x=-20..33,y=-21..23,z=-26..28\n",
    "on x=-22..28,y=-29..23,z=-38..16\n",
    "on x=-46..7,y=-6..46,z=-50..-1\n",
    "on x=-49..1,y=-3..46,z=-24..28\n",
    "on x=2..47,y=-22..22,z=-23..27\n",
    "on x=-27..23,y=-28..26,z=-21..29\n",
    "on x=-39..5,y=-6..47,z=-3..44\n",
    "on x=-30..21,y=-8..43,z=-13..34\n",
    "on x=-22..26,y=-27..20,z=-29..19\n",
    "off x=-48..-32,y=26..41,z=-47..-37\n",
    "on x=-12..35,y=6..50,z=-50..-2\n",
    "off x=-48..-32,y=-32..-16,z=-15..-5\n",
    "on x=-18..26,y=-33..15,z=-7..46\n",
    "off x=-40..-22,y=-38..-28,z=23..41\n",
    "on x=-16..35,y=-41..10,z=-47..6\n",
    "off x=-32..-23,y=11..30,z=-14..3\n",
    "on x=-49..-5,y=-3..45,z=-29..18\n",
    "off x=18..30,y=-20..-8,z=-3..13\n",
    "on x=-41..9,y=-7..43,z=-33..15\n",
    "on x=-54112..-39298,y=-85059..-49293,z=-27449..7877\n",
    "on x=967..23432,y=45373..81175,z=27513..53682\"\"\")"
   ]
  },
  {
   "cell_type": "code",
   "execution_count": 245,
   "id": "946f0306",
   "metadata": {},
   "outputs": [
    {
     "data": {
      "text/plain": [
       "590784"
      ]
     },
     "execution_count": 245,
     "metadata": {},
     "output_type": "execute_result"
    }
   ],
   "source": [
    "INIT = (-50, 50)\n",
    "INIT_C = Cuboid(INIT, INIT, INIT)\n",
    "count_filled(cs, onoffs, INIT_C)"
   ]
  },
  {
   "cell_type": "code",
   "execution_count": 247,
   "id": "6c04067f",
   "metadata": {},
   "outputs": [
    {
     "name": "stdout",
     "output_type": "stream",
     "text": [
      "[p1] Filled within initial bounds 644257\n",
      "[p2] Filled overall 1235484513229032\n",
      "CPU times: user 20.6 s, sys: 0 ns, total: 20.6 s\n",
      "Wall time: 20.6 s\n"
     ]
    }
   ],
   "source": [
    "%%time\n",
    "with open('../data/day22.txt') as infile:\n",
    "    s = CuboidSet.from_instructions(infile.read())\n",
    "    print('[p1] Filled within initial bounds:', sum(c.volume_within(INIT_C) for c in s.cs))\n",
    "    print('[p2] Filled overall:', sum(c.volume() for c in s.cs))"
   ]
  }
 ],
 "metadata": {
  "kernelspec": {
   "display_name": "Python 3 (ipykernel)",
   "language": "python",
   "name": "python3"
  },
  "language_info": {
   "codemirror_mode": {
    "name": "ipython",
    "version": 3
   },
   "file_extension": ".py",
   "mimetype": "text/x-python",
   "name": "python",
   "nbconvert_exporter": "python",
   "pygments_lexer": "ipython3",
   "version": "3.10.1"
  }
 },
 "nbformat": 4,
 "nbformat_minor": 5
}
