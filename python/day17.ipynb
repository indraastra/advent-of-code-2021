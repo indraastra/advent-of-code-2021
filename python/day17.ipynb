{
 "cells": [
  {
   "cell_type": "code",
   "execution_count": 46,
   "id": "f460f27c",
   "metadata": {},
   "outputs": [],
   "source": [
    "import math\n",
    "import itertools\n",
    "import re"
   ]
  },
  {
   "cell_type": "code",
   "execution_count": 144,
   "id": "0c6cb5f8",
   "metadata": {},
   "outputs": [],
   "source": [
    "def target_range_dx(x1, x2):\n",
    "    return range(math.floor(math.sqrt(x1 * 2)), x2+1)"
   ]
  },
  {
   "cell_type": "code",
   "execution_count": 145,
   "id": "dca75f27",
   "metadata": {},
   "outputs": [],
   "source": [
    "def target_range_dy(y1, y2):\n",
    "    return range(0, max(abs(y2), abs(y1)) + 1)"
   ]
  },
  {
   "cell_type": "code",
   "execution_count": 197,
   "id": "9834087f",
   "metadata": {},
   "outputs": [],
   "source": [
    "def parse_target(t):\n",
    "    return [int(i) for i in re.findall(r'(-?\\d+)', t)]"
   ]
  },
  {
   "cell_type": "code",
   "execution_count": 147,
   "id": "99339277",
   "metadata": {},
   "outputs": [],
   "source": [
    "def step(dx, dy, n=10):\n",
    "    x = y = 0\n",
    "    for i in range(n):\n",
    "        print(x, y, dx, dy)\n",
    "        x += dx\n",
    "        y += dy\n",
    "        dx = max(0, dx - 1)\n",
    "        dy -= 1"
   ]
  },
  {
   "cell_type": "code",
   "execution_count": 268,
   "id": "e04b5103",
   "metadata": {},
   "outputs": [],
   "source": [
    "def hits_target(dx, dy, tx1, tx2, ty1, ty2):\n",
    "    x = y = 0\n",
    "    if dy > 0 and ty2 < 0:\n",
    "        steps = dy * 2 + 1\n",
    "        # Jump ahead by `steps`.\n",
    "        dx_final = max(0, dx - steps)\n",
    "        x = sum(range(dx, dx_final, -1))\n",
    "        dx = dx_final\n",
    "        dy = -(dy + 1)\n",
    "    \n",
    "    while True:    \n",
    "        nx = x + dx\n",
    "        ny = y + dy\n",
    "        if tx2 < nx or y < ty1:\n",
    "            return False\n",
    "        elif tx1 <= nx <= tx2 and ty1 <= ny <= ty2:\n",
    "            return True\n",
    "        dx = max(0, dx - 1)\n",
    "        dy -= 1\n",
    "        x = nx\n",
    "        y = ny\n",
    "        \n",
    "\n",
    "def find_best(x1, x2, y1, y2):\n",
    "    for dy in reversed(target_range_dy(y1, y2)):\n",
    "        for dx in target_range_dx(x1, x2):\n",
    "            if hits_target(dx, dy, x1, x2, y1, y2):\n",
    "                return (dx, dy)\n",
    "\n",
    "def find_all(x1, x2, y1, y2):\n",
    "    count = 0\n",
    "    ymax = max(abs(y1), abs(y2))\n",
    "    for dy in range(-ymax, ymax):\n",
    "        for dx in target_range_dx(x1, x2):\n",
    "            if hits_target(dx, dy, x1, x2, y1, y2):\n",
    "                count += 1\n",
    "    return count"
   ]
  },
  {
   "cell_type": "code",
   "execution_count": 269,
   "id": "cb99bd6c",
   "metadata": {},
   "outputs": [
    {
     "data": {
      "text/plain": [
       "True"
      ]
     },
     "execution_count": 269,
     "metadata": {},
     "output_type": "execute_result"
    }
   ],
   "source": [
    "hits_target(23, 20, 265, 287, -103, -58)"
   ]
  },
  {
   "cell_type": "code",
   "execution_count": 270,
   "id": "538aceae",
   "metadata": {},
   "outputs": [
    {
     "name": "stdout",
     "output_type": "stream",
     "text": [
      "[p1] Highest y pos: 5253\n",
      "[p2] Num solutions: 1770\n",
      "CPU times: user 83.2 ms, sys: 0 ns, total: 83.2 ms\n",
      "Wall time: 86.8 ms\n"
     ]
    }
   ],
   "source": [
    "%%time\n",
    "with open('../data/day17.txt') as infile:\n",
    "    x1, x2, y1, y2 = parse_target(infile.read())\n",
    "    dx, dy = find_best(x1, x2, y1, y2)\n",
    "    print('[p1] Highest y pos:', dy*(dy+1)//2)\n",
    "    print('[p2] Num solutions:', find_all(x1, x2, y1, y2))"
   ]
  },
  {
   "cell_type": "code",
   "execution_count": null,
   "id": "db0ff55c",
   "metadata": {},
   "outputs": [],
   "source": []
  }
 ],
 "metadata": {
  "kernelspec": {
   "display_name": "Python 3 (ipykernel)",
   "language": "python",
   "name": "python3"
  },
  "language_info": {
   "codemirror_mode": {
    "name": "ipython",
    "version": 3
   },
   "file_extension": ".py",
   "mimetype": "text/x-python",
   "name": "python",
   "nbconvert_exporter": "python",
   "pygments_lexer": "ipython3",
   "version": "3.10.1"
  }
 },
 "nbformat": 4,
 "nbformat_minor": 5
}
