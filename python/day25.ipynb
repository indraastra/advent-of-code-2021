{
 "cells": [
  {
   "cell_type": "code",
   "execution_count": 1,
   "id": "9f69b239",
   "metadata": {},
   "outputs": [],
   "source": [
    "import numpy as np"
   ]
  },
  {
   "cell_type": "code",
   "execution_count": 165,
   "id": "b243339d",
   "metadata": {},
   "outputs": [],
   "source": [
    "symbols = 'v>'\n",
    "\n",
    "def parse_cucumbers(s):\n",
    "    return np.array([list(l.strip()) for l in s.strip().splitlines()])\n",
    "\n",
    "def move(m, dim):\n",
    "    d = m.shape[dim]\n",
    "    n = np.roll(m, -1, axis=dim)\n",
    "    cond = (m == symbols[dim]) & (n == '.')\n",
    "    if not cond.any():\n",
    "        return False\n",
    "    m[cond] = '.'\n",
    "    m[np.roll(cond, 1, axis=dim)] = symbols[dim]\n",
    "    return True\n",
    "\n",
    "def move_right(m):\n",
    "    return move(m, 1)\n",
    "\n",
    "def move_down(m):\n",
    "    return move(m, 0)\n",
    "\n",
    "def move_until_stable(m):\n",
    "    moved = True\n",
    "    step = 0\n",
    "    while moved:\n",
    "        step += 1\n",
    "        moved  = move_right(m)\n",
    "        moved |= move_down(m)\n",
    "    return step"
   ]
  },
  {
   "cell_type": "code",
   "execution_count": 166,
   "id": "cc62c5f5",
   "metadata": {},
   "outputs": [],
   "source": [
    "m = parse_cucumbers(\"\"\"\n",
    "    v...>>.vv>\n",
    "    .vv>>.vv..\n",
    "    >>.>v>...v\n",
    "    >>v>>.>.v.\n",
    "    v>v.vv.v..\n",
    "    >.>>..v...\n",
    "    .vv..>.>v.\n",
    "    v.v..>>v.v\n",
    "    ....v..v.>\n",
    "\"\"\")"
   ]
  },
  {
   "cell_type": "code",
   "execution_count": 167,
   "id": "6f6fe005",
   "metadata": {},
   "outputs": [
    {
     "data": {
      "text/plain": [
       "58"
      ]
     },
     "execution_count": 167,
     "metadata": {},
     "output_type": "execute_result"
    }
   ],
   "source": [
    "move_until_stable(m)"
   ]
  },
  {
   "cell_type": "code",
   "execution_count": 169,
   "id": "b319a17d",
   "metadata": {},
   "outputs": [
    {
     "name": "stdout",
     "output_type": "stream",
     "text": [
      "[p1] Steps until stable: 523\n",
      "CPU times: user 508 ms, sys: 3.62 ms, total: 512 ms\n",
      "Wall time: 510 ms\n"
     ]
    }
   ],
   "source": [
    "%%time\n",
    "with open('../data/day25.txt') as infile:\n",
    "    m = parse_cucumbers(infile.read())\n",
    "    print('[p1] Steps until stable:', move_until_stable(m))"
   ]
  },
  {
   "cell_type": "code",
   "execution_count": null,
   "id": "890ae86f",
   "metadata": {},
   "outputs": [],
   "source": []
  }
 ],
 "metadata": {
  "kernelspec": {
   "display_name": "Python 3 (ipykernel)",
   "language": "python",
   "name": "python3"
  },
  "language_info": {
   "codemirror_mode": {
    "name": "ipython",
    "version": 3
   },
   "file_extension": ".py",
   "mimetype": "text/x-python",
   "name": "python",
   "nbconvert_exporter": "python",
   "pygments_lexer": "ipython3",
   "version": "3.10.1"
  }
 },
 "nbformat": 4,
 "nbformat_minor": 5
}
